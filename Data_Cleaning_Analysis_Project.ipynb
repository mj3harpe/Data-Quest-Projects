{
 "cells": [
  {
   "cell_type": "markdown",
   "metadata": {
    "collapsed": true
   },
   "source": [
    "# Employment Exit Survey Analysis\n",
    "\n",
    "The purpose of this project is to answer questions pertaining to the resignment reasons for long and short term employees. The data we will be working with is exit surveys from the Department of Education, Training and Employment (DETE) as well as those from Technical and Further Education (TAFE). While we work with the data, we will continuously be asking ourselves which data do we need to answer the task? Is the data present already? How can we transform the existing data to help us answer resignment quetsions.\n",
    "\n",
    "## Question: \n",
    "- Are employees whop only worked for the institutes for a short period of time resigning due to some kind of dissatisfaction? What about employees who have been there longer?"
   ]
  },
  {
   "cell_type": "markdown",
   "metadata": {},
   "source": [
    "## Importing Libraries, Reading in Data and Begin Exploration"
   ]
  },
  {
   "cell_type": "code",
   "execution_count": 2,
   "metadata": {
    "collapsed": false
   },
   "outputs": [
    {
     "output_type": "stream",
     "name": "stdout",
     "text": "DETE INFORMATION \n\n<class 'pandas.core.frame.DataFrame'>\nRangeIndex: 822 entries, 0 to 821\nData columns (total 56 columns):\n #   Column                               Non-Null Count  Dtype \n---  ------                               --------------  ----- \n 0   ID                                   822 non-null    int64 \n 1   SeparationType                       822 non-null    object\n 2   Cease Date                           822 non-null    object\n 3   DETE Start Date                      822 non-null    object\n 4   Role Start Date                      822 non-null    object\n 5   Position                             817 non-null    object\n 6   Classification                       455 non-null    object\n 7   Region                               822 non-null    object\n 8   Business Unit                        126 non-null    object\n 9   Employment Status                    817 non-null    object\n 10  Career move to public sector         822 non-null    bool  \n 11  Career move to private sector        822 non-null    bool  \n 12  Interpersonal conflicts              822 non-null    bool  \n 13  Job dissatisfaction                  822 non-null    bool  \n 14  Dissatisfaction with the department  822 non-null    bool  \n 15  Physical work environment            822 non-null    bool  \n 16  Lack of recognition                  822 non-null    bool  \n 17  Lack of job security                 822 non-null    bool  \n 18  Work location                        822 non-null    bool  \n 19  Employment conditions                822 non-null    bool  \n 20  Maternity/family                     822 non-null    bool  \n 21  Relocation                           822 non-null    bool  \n 22  Study/Travel                         822 non-null    bool  \n 23  Ill Health                           822 non-null    bool  \n 24  Traumatic incident                   822 non-null    bool  \n 25  Work life balance                    822 non-null    bool  \n 26  Workload                             822 non-null    bool  \n 27  None of the above                    822 non-null    bool  \n 28  Professional Development             808 non-null    object\n 29  Opportunities for promotion          735 non-null    object\n 30  Staff morale                         816 non-null    object\n 31  Workplace issue                      788 non-null    object\n 32  Physical environment                 817 non-null    object\n 33  Worklife balance                     815 non-null    object\n 34  Stress and pressure support          810 non-null    object\n 35  Performance of supervisor            813 non-null    object\n 36  Peer support                         812 non-null    object\n 37  Initiative                           813 non-null    object\n 38  Skills                               811 non-null    object\n 39  Coach                                767 non-null    object\n 40  Career Aspirations                   746 non-null    object\n 41  Feedback                             792 non-null    object\n 42  Further PD                           768 non-null    object\n 43  Communication                        814 non-null    object\n 44  My say                               812 non-null    object\n 45  Information                          816 non-null    object\n 46  Kept informed                        813 non-null    object\n 47  Wellness programs                    766 non-null    object\n 48  Health & Safety                      793 non-null    object\n 49  Gender                               798 non-null    object\n 50  Age                                  811 non-null    object\n 51  Aboriginal                           16 non-null     object\n 52  Torres Strait                        3 non-null      object\n 53  South Sea                            7 non-null      object\n 54  Disability                           23 non-null     object\n 55  NESB                                 32 non-null     object\ndtypes: bool(18), int64(1), object(37)\nmemory usage: 258.6+ KB\n\n\n\n\nNULL VALUES \n\n"
    },
    {
     "output_type": "execute_result",
     "data": {
      "text/plain": "ID                                       0\nSeparationType                           0\nCease Date                               0\nDETE Start Date                          0\nRole Start Date                          0\nPosition                                 5\nClassification                         367\nRegion                                   0\nBusiness Unit                          696\nEmployment Status                        5\nCareer move to public sector             0\nCareer move to private sector            0\nInterpersonal conflicts                  0\nJob dissatisfaction                      0\nDissatisfaction with the department      0\nPhysical work environment                0\nLack of recognition                      0\nLack of job security                     0\nWork location                            0\nEmployment conditions                    0\nMaternity/family                         0\nRelocation                               0\nStudy/Travel                             0\nIll Health                               0\nTraumatic incident                       0\nWork life balance                        0\nWorkload                                 0\nNone of the above                        0\nProfessional Development                14\nOpportunities for promotion             87\nStaff morale                             6\nWorkplace issue                         34\nPhysical environment                     5\nWorklife balance                         7\nStress and pressure support             12\nPerformance of supervisor                9\nPeer support                            10\nInitiative                               9\nSkills                                  11\nCoach                                   55\nCareer Aspirations                      76\nFeedback                                30\nFurther PD                              54\nCommunication                            8\nMy say                                  10\nInformation                              6\nKept informed                            9\nWellness programs                       56\nHealth & Safety                         29\nGender                                  24\nAge                                     11\nAboriginal                             806\nTorres Strait                          819\nSouth Sea                              815\nDisability                             799\nNESB                                   790\ndtype: int64"
     },
     "metadata": {},
     "execution_count": 2
    }
   ],
   "source": [
    "#Import the necessary libraries\n",
    "%matplotlib inline\n",
    "import numpy as np\n",
    "import pandas as pd\n",
    "import matplotlib.pyplot as plt\n",
    "\n",
    "#Read in the CSV files\n",
    "dete_survey = pd.read_csv('dete_survey.csv', encoding='cp1252')\n",
    "tafe_survey = pd.read_csv('tafe_survey.csv', encoding='cp1252')\n",
    "\n",
    "#Begin to Explore Data information\n",
    "print(\"DETE INFORMATION\", '\\n')\n",
    "dete_survey.info()\n",
    "print('\\n')\n",
    "dete_survey.head(5)\n",
    "print('\\n')\n",
    "print('NULL VALUES','\\n')\n",
    "dete_survey.isnull().sum()\n"
   ]
  },
  {
   "cell_type": "code",
   "execution_count": 3,
   "metadata": {
    "collapsed": false
   },
   "outputs": [],
   "source": [
    "# print(\"TAFE INFORMATION\", '\\n')\n",
    "# tafe_survey.info()\n",
    "# print('\\n')\n",
    "# tafe_survey.head(5)\n",
    "# print('\\n')\n",
    "# print('NULL VALUES','\\n')\n",
    "# tafe_survey.isnull().sum()"
   ]
  },
  {
   "cell_type": "markdown",
   "metadata": {},
   "source": [
    "## Initial  Observations\n",
    "\n",
    "DETE Survey:\n",
    "- 822 ideally filled entries\n",
    "- Several columns with null entries. Many of which are unrelated to employee satisfaction and are up for consideration to be dropped\n",
    "- int,string and bool type entries\n",
    "- Non-entries entered as \"Not Stated\"\n",
    "- Interested to clean data pertaining to resignation reason as well as the employees years of service with the institute\n",
    "\n",
    "TAFE Survey:\n",
    "- 702 ideally filled entries\n",
    "- explicit columns detailing dissatisfaction. ('Contributing Factors. Dissatisfaction' and 'Contributing Factors. Job Dissatisfaction')\n",
    "- Many similar columns to DETE survey though under a different column title (i.e. 'id' vs 'Record id')\n",
    "- float and object data types\n",
    "- Interested to clean data pertaining to resignation reason as well as the employees years of service with the institute.\n",
    "\n"
   ]
  },
  {
   "cell_type": "markdown",
   "metadata": {},
   "source": [
    "## Removing Columns\n",
    "\n",
    "Our main goal is to find out why employees are leaving due to some sort of dissatisfaction. Therfore we are really only interested in the information present in the file that relates to this question. The code block below removes several columns from each data set that are not useful to use. This will also help reduce the number of null entries in the data sets."
   ]
  },
  {
   "cell_type": "code",
   "execution_count": 4,
   "metadata": {
    "collapsed": false
   },
   "outputs": [],
   "source": [
    "#Re-read dete survey, convert \"Not Stated\" to NaN values\n",
    "dete_survey = pd.read_csv('dete_survey.csv', na_values='Not Stated')\n",
    "\n",
    "#drop columns not needed for the analysis - DETE SURVEY\n",
    "dete_survey_updated = dete_survey.drop(dete_survey.columns[28:49], axis=1)\n",
    "\n",
    "#drop columns not needed for the analysis - TAFE SURVEY\n",
    "tafe_survey_updated = tafe_survey.drop(tafe_survey.columns[17:66],axis=1)\n"
   ]
  },
  {
   "cell_type": "markdown",
   "metadata": {},
   "source": [
    "## Normalizing Important Column Names\n",
    "\n",
    "The column names from the DETE survey are more simular to what we are used to seeing in Python. A simple string function can replace spaces with an underscore \"_\" and the columns names will be in snake case. Snake case is easier for people to read and will hopeful lead to less mistakes in the code as well as quicker code development.\n",
    "\n",
    "We will use the same format from the updated DETE survey column names for the TAFE survey as well. The code below creates a dictionary to be used to map the existing column name (the key in the dictionary) to its new column title (the value in the dictionary). The DETE column names were consulted to try and match and similar columns between the two to have the same column title. This will make joining the two data sets easier later on."
   ]
  },
  {
   "cell_type": "code",
   "execution_count": 5,
   "metadata": {
    "collapsed": false
   },
   "outputs": [
    {
     "output_type": "stream",
     "name": "stdout",
     "text": "Index(['id', 'separationtype', 'cease_date', 'dete_start_date',\n       'role_start_date', 'position', 'classification', 'region',\n       'business_unit', 'employment_status', 'career_move_to_public_sector',\n       'career_move_to_private_sector', 'interpersonal_conflicts',\n       'job_dissatisfaction', 'dissatisfaction_with_the_department',\n       'physical_work_environment', 'lack_of_recognition',\n       'lack_of_job_security', 'work_location', 'employment_conditions',\n       'maternity/family', 'relocation', 'study/travel', 'ill_health',\n       'traumatic_incident', 'work_life_balance', 'workload',\n       'none_of_the_above', 'gender', 'age', 'aboriginal', 'torres_strait',\n       'south_sea', 'disability', 'nesb'],\n      dtype='object')\n\n\nIndex(['id', 'Institute', 'WorkArea', 'cease_date', 'separationtype',\n       'Contributing Factors. Career Move - Public Sector ',\n       'Contributing Factors. Career Move - Private Sector ',\n       'Contributing Factors. Career Move - Self-employment',\n       'Contributing Factors. Ill Health',\n       'Contributing Factors. Maternity/Family',\n       'Contributing Factors. Dissatisfaction',\n       'Contributing Factors. Job Dissatisfaction',\n       'Contributing Factors. Interpersonal Conflict',\n       'Contributing Factors. Study', 'Contributing Factors. Travel',\n       'Contributing Factors. Other', 'Contributing Factors. NONE',\n       'Gender.     What is your Gender?', 'CurrentAge.     Current Age',\n       'Employment Type.     Employment Type',\n       'Classification.     Classification', 'institute_service',\n       'LengthofServiceCurrent. Length of Service at current workplace (in years)'],\n      dtype='object')\n"
    }
   ],
   "source": [
    "#Re-name column names - DETE Survey\n",
    "dete_survey_updated.columns = dete_survey_updated.columns.str.lower().str.replace(\" \",\"_\").str.rstrip()\n",
    "print(dete_survey_updated.columns)\n",
    "print('\\n')\n",
    "\n",
    "#Re-name column names - DETE Survey\n",
    "tafe_columns_name_map = {\n",
    "    'Record ID':'id',\n",
    "    'CESSATION YEAR':'cease_date',\n",
    "    'Reason for ceasing employment':'separationtype',\n",
    "    'Gender. What is your Gender': 'gender',\n",
    "    'CurrentAge. Current Age': 'age',\n",
    "    'Employment Type. Employment Type': 'employment_status',\n",
    "    'Classification. Classification': 'position',\n",
    "    'LengthofServiceOverall. Overall Length of Service at Institute (in years)': 'institute_service'\n",
    "}\n",
    "\n",
    "tafe_survey_updated.rename(tafe_columns_name_map, inplace=True, axis=1)\n",
    "print(tafe_survey_updated.columns)"
   ]
  },
  {
   "cell_type": "markdown",
   "metadata": {},
   "source": [
    "## Honing in on Resignation Information\n",
    "\n",
    "As a reminder, we are interesting in if an employee resigned due to some sort of dissatisfaction. To begin cleaning the data to answer this question, we will first isolate the data from which an employee did resign (as oposed to retiring, injury, etc.). To do this a regular expression (regex) \"pattern\" was created. This regex is used to create bool series' from each data frame, returning TRUE of an entry contained the regex. New data frames, 'dete_resignations' and 'tafe_resignations' were created that only contain entries if the original entry under the 'separationtype' column contained the word Resignation."
   ]
  },
  {
   "cell_type": "code",
   "execution_count": 19,
   "metadata": {
    "collapsed": false
   },
   "outputs": [
    {
     "output_type": "stream",
     "name": "stdout",
     "text": "DETE RESIGNATIONS \n\nResignation-Other reasons               150\nResignation-Other employer               91\nResignation-Move overseas/interstate     70\nName: separationtype, dtype: int64\nTAFE RESIGNATIONS \n\nResignation    340\nName: separationtype, dtype: int64\n"
    }
   ],
   "source": [
    "#Create regex to use as search pattern\n",
    "pattern = r\"Resignation\"\n",
    "search_bool_dete = dete_survey_updated['separationtype'].str.contains(pattern)\n",
    "search_bool_tafe = tafe_survey_updated['separationtype'].str.contains(pattern, na=False)\n",
    "\n",
    "# The code below is used to verify that the above search bools did infact only extract rows from each containing \"Resignation\" as their separation type\n",
    "\n",
    "# print(search_bool.head(5))\n",
    "# print(dete_survey_updated.loc[2:3,'separationtype'])\n",
    "# print(search_bool_tafe.head(5))\n",
    "# print(tafe_survey_updated.loc[2:4,'separationtype'])\n",
    "\n",
    "#View Unique Entries for Resignation from each dataframe\n",
    "resignation_dete = dete_survey_updated.loc[search_bool_dete,\"separationtype\"].value_counts()\n",
    "resignation_tafe = tafe_survey_updated.loc[search_bool_tafe,\"separationtype\"].value_counts()\n",
    "print(\"DETE RESIGNATIONS\",\"\\n\")\n",
    "print(resignation_dete)\n",
    "print(\"TAFE RESIGNATIONS\",\"\\n\")\n",
    "print(resignation_tafe)\n",
    "\n",
    "# Create new data frames only containing all columns of entries who resigned\n",
    "dete_resignations = dete_survey_updated[search_bool_dete].copy()\n",
    "tafe_resignations = tafe_survey_updated[search_bool_tafe].copy()\n"
   ]
  },
  {
   "cell_type": "markdown",
   "metadata": {},
   "source": [
    "## Years of Service: Institute_Service\n",
    "\n",
    "Now that we have separated the resignation entries from the rest of the data set, we can now begin to gather information from each data set pertaining to how long an employee worked with the institute. We begin by printing the unique values for 'cease_date' from the 'dete_resignations' dataframe. We see that some entries are just the years of resignation and some contain the month data as well. We then create a regex to extract and replace each value in the resignation column with just the year information from each entry. As this new value will only contain four numbers, we can now type cast this to a float data type so that we can manipulate the column with mathematical expressions later.\n",
    "\n",
    "A similar process is done for the TAFE data, however this data set already contains a column oultining years of service. A series of string operations were used to remove unwanted information from this column. This column contains ranges (i.e. 7-10 years of service). The mean of this data range rounded up to the nearest whole number is used to replace this information."
   ]
  },
  {
   "cell_type": "code",
   "execution_count": 20,
   "metadata": {
    "collapsed": false
   },
   "outputs": [
    {
     "output_type": "stream",
     "name": "stdout",
     "text": "2012       126\n2013        74\n01/2014     22\n12/2013     17\n06/2013     14\n09/2013     11\nNaN         11\n11/2013      9\n07/2013      9\n10/2013      6\n08/2013      4\n05/2012      2\n05/2013      2\n07/2006      1\n2010         1\n09/2010      1\n07/2012      1\nName: cease_date, dtype: int64\n311\n"
    }
   ],
   "source": [
    "#creates a series object of unique cease_dates \n",
    "dete_cease_dates = dete_resignations['cease_date'].value_counts(dropna=False)\n",
    "print(dete_cease_dates)\n",
    "print(dete_cease_dates.sum())\n",
    "\n",
    "#creates a search pattern to look for only the year from the cease_date column (regex)\n",
    "cease_date_pattern = r\"([1-2][0-9]{3})\""
   ]
  },
  {
   "cell_type": "code",
   "execution_count": 8,
   "metadata": {
    "collapsed": false
   },
   "outputs": [
    {
     "output_type": "stream",
     "name": "stdout",
     "text": "2013.0    146\n2012.0    129\n2014.0     22\nNaN        11\n2010.0      2\n2006.0      1\nName: cease_date, dtype: int64\nTotal Entries: \n\n311\n"
    }
   ],
   "source": [
    "#creates a new series of the cease_dates but only extracts the year value from each using the search pattern\n",
    "cease_date_years = dete_resignations['cease_date'].str.extract(cease_date_pattern)\n",
    "\n",
    "#replaces original cease_date column with just their years\n",
    "dete_resignations['cease_date'] = cease_date_years.astype('float')\n",
    "print(dete_resignations['cease_date'].value_counts(dropna=False))\n",
    "print(\"Total Entries:\", \"\\n\")\n",
    "print(dete_resignations['cease_date'].value_counts(dropna=False).sum())\n"
   ]
  },
  {
   "cell_type": "code",
   "execution_count": 9,
   "metadata": {
    "collapsed": false
   },
   "outputs": [],
   "source": [
    "dete_start_dates = dete_resignations['dete_start_date'].value_counts()\n",
    "dete_cease_dates = dete_resignations['cease_date'].value_counts()\n",
    "tafe_cease_dates = tafe_resignations['cease_date'].value_counts()\n",
    "\n",
    "# print(\"TAFE CEASE DATES:\",\"\\n\")\n",
    "# print(tafe_cease_dates.sort_index(ascending=True))\n",
    "# print(\"DETE START DATES:\",\"\\n\")\n",
    "# print(dete_start_dates.sort_index(ascending=True))\n",
    "# print(\"DETE CEASE DATES:\",\"\\n\")\n",
    "# print(dete_cease_dates.sort_index(ascending=True))"
   ]
  },
  {
   "cell_type": "code",
   "execution_count": 10,
   "metadata": {
    "collapsed": false
   },
   "outputs": [
    {
     "output_type": "execute_result",
     "data": {
      "text/plain": "    id                        separationtype  cease_date  dete_start_date  \\\n3    4             Resignation-Other reasons      2012.0           2005.0   \n5    6             Resignation-Other reasons      2012.0           1994.0   \n8    9             Resignation-Other reasons      2012.0           2009.0   \n9   10            Resignation-Other employer      2012.0           1997.0   \n11  12  Resignation-Move overseas/interstate      2012.0           2009.0   \n\n    role_start_date          position classification                region  \\\n3            2006.0           Teacher        Primary    Central Queensland   \n5            1997.0  Guidance Officer            NaN        Central Office   \n8            2009.0           Teacher      Secondary      North Queensland   \n9            2008.0      Teacher Aide            NaN                   NaN   \n11           2009.0           Teacher      Secondary  Far North Queensland   \n\n           business_unit    employment_status  ...  workload  \\\n3                    NaN  Permanent Full-time  ...     False   \n5   Education Queensland  Permanent Full-time  ...     False   \n8                    NaN  Permanent Full-time  ...     False   \n9                    NaN  Permanent Part-time  ...     False   \n11                   NaN  Permanent Full-time  ...     False   \n\n    none_of_the_above  gender    age  aboriginal  torres_strait  south_sea  \\\n3               False  Female  36-40         NaN            NaN        NaN   \n5               False  Female  41-45         NaN            NaN        NaN   \n8               False  Female  31-35         NaN            NaN        NaN   \n9               False  Female  46-50         NaN            NaN        NaN   \n11              False    Male  31-35         NaN            NaN        NaN   \n\n    disability  nesb  institute_service  \n3          NaN   NaN                7.0  \n5          NaN   NaN               18.0  \n8          NaN   NaN                3.0  \n9          NaN   NaN               15.0  \n11         NaN   NaN                3.0  \n\n[5 rows x 36 columns]",
      "text/html": "<div>\n<style scoped>\n    .dataframe tbody tr th:only-of-type {\n        vertical-align: middle;\n    }\n\n    .dataframe tbody tr th {\n        vertical-align: top;\n    }\n\n    .dataframe thead th {\n        text-align: right;\n    }\n</style>\n<table border=\"1\" class=\"dataframe\">\n  <thead>\n    <tr style=\"text-align: right;\">\n      <th></th>\n      <th>id</th>\n      <th>separationtype</th>\n      <th>cease_date</th>\n      <th>dete_start_date</th>\n      <th>role_start_date</th>\n      <th>position</th>\n      <th>classification</th>\n      <th>region</th>\n      <th>business_unit</th>\n      <th>employment_status</th>\n      <th>...</th>\n      <th>workload</th>\n      <th>none_of_the_above</th>\n      <th>gender</th>\n      <th>age</th>\n      <th>aboriginal</th>\n      <th>torres_strait</th>\n      <th>south_sea</th>\n      <th>disability</th>\n      <th>nesb</th>\n      <th>institute_service</th>\n    </tr>\n  </thead>\n  <tbody>\n    <tr>\n      <th>3</th>\n      <td>4</td>\n      <td>Resignation-Other reasons</td>\n      <td>2012.0</td>\n      <td>2005.0</td>\n      <td>2006.0</td>\n      <td>Teacher</td>\n      <td>Primary</td>\n      <td>Central Queensland</td>\n      <td>NaN</td>\n      <td>Permanent Full-time</td>\n      <td>...</td>\n      <td>False</td>\n      <td>False</td>\n      <td>Female</td>\n      <td>36-40</td>\n      <td>NaN</td>\n      <td>NaN</td>\n      <td>NaN</td>\n      <td>NaN</td>\n      <td>NaN</td>\n      <td>7.0</td>\n    </tr>\n    <tr>\n      <th>5</th>\n      <td>6</td>\n      <td>Resignation-Other reasons</td>\n      <td>2012.0</td>\n      <td>1994.0</td>\n      <td>1997.0</td>\n      <td>Guidance Officer</td>\n      <td>NaN</td>\n      <td>Central Office</td>\n      <td>Education Queensland</td>\n      <td>Permanent Full-time</td>\n      <td>...</td>\n      <td>False</td>\n      <td>False</td>\n      <td>Female</td>\n      <td>41-45</td>\n      <td>NaN</td>\n      <td>NaN</td>\n      <td>NaN</td>\n      <td>NaN</td>\n      <td>NaN</td>\n      <td>18.0</td>\n    </tr>\n    <tr>\n      <th>8</th>\n      <td>9</td>\n      <td>Resignation-Other reasons</td>\n      <td>2012.0</td>\n      <td>2009.0</td>\n      <td>2009.0</td>\n      <td>Teacher</td>\n      <td>Secondary</td>\n      <td>North Queensland</td>\n      <td>NaN</td>\n      <td>Permanent Full-time</td>\n      <td>...</td>\n      <td>False</td>\n      <td>False</td>\n      <td>Female</td>\n      <td>31-35</td>\n      <td>NaN</td>\n      <td>NaN</td>\n      <td>NaN</td>\n      <td>NaN</td>\n      <td>NaN</td>\n      <td>3.0</td>\n    </tr>\n    <tr>\n      <th>9</th>\n      <td>10</td>\n      <td>Resignation-Other employer</td>\n      <td>2012.0</td>\n      <td>1997.0</td>\n      <td>2008.0</td>\n      <td>Teacher Aide</td>\n      <td>NaN</td>\n      <td>NaN</td>\n      <td>NaN</td>\n      <td>Permanent Part-time</td>\n      <td>...</td>\n      <td>False</td>\n      <td>False</td>\n      <td>Female</td>\n      <td>46-50</td>\n      <td>NaN</td>\n      <td>NaN</td>\n      <td>NaN</td>\n      <td>NaN</td>\n      <td>NaN</td>\n      <td>15.0</td>\n    </tr>\n    <tr>\n      <th>11</th>\n      <td>12</td>\n      <td>Resignation-Move overseas/interstate</td>\n      <td>2012.0</td>\n      <td>2009.0</td>\n      <td>2009.0</td>\n      <td>Teacher</td>\n      <td>Secondary</td>\n      <td>Far North Queensland</td>\n      <td>NaN</td>\n      <td>Permanent Full-time</td>\n      <td>...</td>\n      <td>False</td>\n      <td>False</td>\n      <td>Male</td>\n      <td>31-35</td>\n      <td>NaN</td>\n      <td>NaN</td>\n      <td>NaN</td>\n      <td>NaN</td>\n      <td>NaN</td>\n      <td>3.0</td>\n    </tr>\n  </tbody>\n</table>\n<p>5 rows × 36 columns</p>\n</div>"
     },
     "metadata": {},
     "execution_count": 10
    }
   ],
   "source": [
    "dete_resignations['institute_service'] = dete_resignations['cease_date'] - dete_resignations['dete_start_date']\n",
    "dete_resignations.head(5)"
   ]
  },
  {
   "cell_type": "code",
   "execution_count": 11,
   "metadata": {
    "collapsed": false,
    "scrolled": true
   },
   "outputs": [
    {
     "output_type": "execute_result",
     "data": {
      "text/plain": "                   id                              Institute  \\\n3  634139903350000000            Mount Isa Institute of TAFE   \n4  634146578511788000  Southern Queensland Institute of TAFE   \n5  634147506906311000  Southern Queensland Institute of TAFE   \n6  634152007975694000         Barrier Reef Institute of TAFE   \n7  634153745310374000  Southern Queensland Institute of TAFE   \n\n                   WorkArea  cease_date separationtype  \\\n3  Non-Delivery (corporate)      2010.0    Resignation   \n4       Delivery (teaching)      2010.0    Resignation   \n5       Delivery (teaching)      2010.0    Resignation   \n6  Non-Delivery (corporate)      2010.0    Resignation   \n7       Delivery (teaching)      2010.0    Resignation   \n\n  Contributing Factors. Career Move - Public Sector   \\\n3                                                  -   \n4                                                  -   \n5                                                  -   \n6                                                  -   \n7                                                  -   \n\n  Contributing Factors. Career Move - Private Sector   \\\n3                                                  -    \n4                       Career Move - Private Sector    \n5                                                  -    \n6                       Career Move - Private Sector    \n7                                                  -    \n\n  Contributing Factors. Career Move - Self-employment  \\\n3                                                  -    \n4                                                  -    \n5                                                  -    \n6                                                  -    \n7                                                  -    \n\n  Contributing Factors. Ill Health Contributing Factors. Maternity/Family  \\\n3                                -                                      -   \n4                                -                                      -   \n5                                -                                      -   \n6                                -                       Maternity/Family   \n7                                -                                      -   \n\n   ... Contributing Factors. Study Contributing Factors. Travel  \\\n3  ...                           -                       Travel   \n4  ...                           -                            -   \n5  ...                           -                            -   \n6  ...                           -                            -   \n7  ...                           -                            -   \n\n  Contributing Factors. Other Contributing Factors. NONE  \\\n3                           -                          -   \n4                           -                          -   \n5                       Other                          -   \n6                       Other                          -   \n7                       Other                          -   \n\n  Gender.     What is your Gender? CurrentAge.     Current Age  \\\n3                              NaN                         NaN   \n4                             Male                     41 – 45   \n5                           Female                 56 or older   \n6                             Male               20 or younger   \n7                             Male                     46 – 50   \n\n  Employment Type.     Employment Type Classification.     Classification  \\\n3                                  NaN                                NaN   \n4                  Permanent Full-time            Teacher (including LVT)   \n5                      Contract/casual            Teacher (including LVT)   \n6                  Temporary Full-time                Administration (AO)   \n7                  Permanent Full-time            Teacher (including LVT)   \n\n  institute_service  \\\n3               NaN   \n4               4.0   \n5               8.0   \n6               4.0   \n7               4.0   \n\n  LengthofServiceCurrent. Length of Service at current workplace (in years)  \n3                                                NaN                         \n4                                                3-4                         \n5                                               7-10                         \n6                                                3-4                         \n7                                                3-4                         \n\n[5 rows x 23 columns]",
      "text/html": "<div>\n<style scoped>\n    .dataframe tbody tr th:only-of-type {\n        vertical-align: middle;\n    }\n\n    .dataframe tbody tr th {\n        vertical-align: top;\n    }\n\n    .dataframe thead th {\n        text-align: right;\n    }\n</style>\n<table border=\"1\" class=\"dataframe\">\n  <thead>\n    <tr style=\"text-align: right;\">\n      <th></th>\n      <th>id</th>\n      <th>Institute</th>\n      <th>WorkArea</th>\n      <th>cease_date</th>\n      <th>separationtype</th>\n      <th>Contributing Factors. Career Move - Public Sector</th>\n      <th>Contributing Factors. Career Move - Private Sector</th>\n      <th>Contributing Factors. Career Move - Self-employment</th>\n      <th>Contributing Factors. Ill Health</th>\n      <th>Contributing Factors. Maternity/Family</th>\n      <th>...</th>\n      <th>Contributing Factors. Study</th>\n      <th>Contributing Factors. Travel</th>\n      <th>Contributing Factors. Other</th>\n      <th>Contributing Factors. NONE</th>\n      <th>Gender.     What is your Gender?</th>\n      <th>CurrentAge.     Current Age</th>\n      <th>Employment Type.     Employment Type</th>\n      <th>Classification.     Classification</th>\n      <th>institute_service</th>\n      <th>LengthofServiceCurrent. Length of Service at current workplace (in years)</th>\n    </tr>\n  </thead>\n  <tbody>\n    <tr>\n      <th>3</th>\n      <td>634139903350000000</td>\n      <td>Mount Isa Institute of TAFE</td>\n      <td>Non-Delivery (corporate)</td>\n      <td>2010.0</td>\n      <td>Resignation</td>\n      <td>-</td>\n      <td>-</td>\n      <td>-</td>\n      <td>-</td>\n      <td>-</td>\n      <td>...</td>\n      <td>-</td>\n      <td>Travel</td>\n      <td>-</td>\n      <td>-</td>\n      <td>NaN</td>\n      <td>NaN</td>\n      <td>NaN</td>\n      <td>NaN</td>\n      <td>NaN</td>\n      <td>NaN</td>\n    </tr>\n    <tr>\n      <th>4</th>\n      <td>634146578511788000</td>\n      <td>Southern Queensland Institute of TAFE</td>\n      <td>Delivery (teaching)</td>\n      <td>2010.0</td>\n      <td>Resignation</td>\n      <td>-</td>\n      <td>Career Move - Private Sector</td>\n      <td>-</td>\n      <td>-</td>\n      <td>-</td>\n      <td>...</td>\n      <td>-</td>\n      <td>-</td>\n      <td>-</td>\n      <td>-</td>\n      <td>Male</td>\n      <td>41 – 45</td>\n      <td>Permanent Full-time</td>\n      <td>Teacher (including LVT)</td>\n      <td>4.0</td>\n      <td>3-4</td>\n    </tr>\n    <tr>\n      <th>5</th>\n      <td>634147506906311000</td>\n      <td>Southern Queensland Institute of TAFE</td>\n      <td>Delivery (teaching)</td>\n      <td>2010.0</td>\n      <td>Resignation</td>\n      <td>-</td>\n      <td>-</td>\n      <td>-</td>\n      <td>-</td>\n      <td>-</td>\n      <td>...</td>\n      <td>-</td>\n      <td>-</td>\n      <td>Other</td>\n      <td>-</td>\n      <td>Female</td>\n      <td>56 or older</td>\n      <td>Contract/casual</td>\n      <td>Teacher (including LVT)</td>\n      <td>8.0</td>\n      <td>7-10</td>\n    </tr>\n    <tr>\n      <th>6</th>\n      <td>634152007975694000</td>\n      <td>Barrier Reef Institute of TAFE</td>\n      <td>Non-Delivery (corporate)</td>\n      <td>2010.0</td>\n      <td>Resignation</td>\n      <td>-</td>\n      <td>Career Move - Private Sector</td>\n      <td>-</td>\n      <td>-</td>\n      <td>Maternity/Family</td>\n      <td>...</td>\n      <td>-</td>\n      <td>-</td>\n      <td>Other</td>\n      <td>-</td>\n      <td>Male</td>\n      <td>20 or younger</td>\n      <td>Temporary Full-time</td>\n      <td>Administration (AO)</td>\n      <td>4.0</td>\n      <td>3-4</td>\n    </tr>\n    <tr>\n      <th>7</th>\n      <td>634153745310374000</td>\n      <td>Southern Queensland Institute of TAFE</td>\n      <td>Delivery (teaching)</td>\n      <td>2010.0</td>\n      <td>Resignation</td>\n      <td>-</td>\n      <td>-</td>\n      <td>-</td>\n      <td>-</td>\n      <td>-</td>\n      <td>...</td>\n      <td>-</td>\n      <td>-</td>\n      <td>Other</td>\n      <td>-</td>\n      <td>Male</td>\n      <td>46 – 50</td>\n      <td>Permanent Full-time</td>\n      <td>Teacher (including LVT)</td>\n      <td>4.0</td>\n      <td>3-4</td>\n    </tr>\n  </tbody>\n</table>\n<p>5 rows × 23 columns</p>\n</div>"
     },
     "metadata": {},
     "execution_count": 11
    }
   ],
   "source": [
    "# CLEAN INSTITUTE SERVICE COLUMN IN TAFE DATA\n",
    "\n",
    "#clean More then / less than / year / years\n",
    "tafe_resignations['institute_service'] = tafe_resignations['institute_service'].str.replace(\"More than \",\"\")\n",
    "tafe_resignations['institute_service'] = tafe_resignations['institute_service'].str.replace(\"Less than \",\"\")\n",
    "tafe_resignations['institute_service'] = tafe_resignations['institute_service'].str.replace(\" years\",\"\")\n",
    "tafe_resignations['institute_service'] = tafe_resignations['institute_service'].str.replace(\" year\",\"\")\n",
    "\n",
    "#For years with ranges. Replace '-' with a space. Split at the space into a list of 2 strings\n",
    "tafe_resignations['institute_service'] = tafe_resignations['institute_service'].str.replace(\"-\",\" \")\n",
    "tafe_resignations['institute_service'] = tafe_resignations['institute_service'].str.split() \n",
    "\n",
    "#convert strings in lists to floats and store them as individual numbers\n",
    "tafe_service_first = tafe_resignations['institute_service'].str[0].astype('float')\n",
    "tafe_service_second = tafe_resignations['institute_service'].str[-1].astype('float')\n",
    "\n",
    "#replace values of institute service in TAFE data with the average of the range\n",
    "tafe_resignations['institute_service'] = round(((tafe_service_first + tafe_service_second)/2),0)\n",
    "tafe_resignations.head(5)\n"
   ]
  },
  {
   "cell_type": "markdown",
   "metadata": {},
   "source": [
    "## Data Transformation - Dissatisfied Employees\n",
    "\n",
    "We now have;\n",
    "- created new data frames with just the entries of employees who resigned\n",
    "- clean the 'cease_dates' and 'start_date' information from each data set and created a new column in each to store the employees years of service ('institute_service')\n",
    "\n",
    "We now need to represent explicitely whether an employee was dissatisfied. We will do this with the steps below;\n",
    "- create list of column headers for each dataframe that would indicate whether an employee was dissatisfied. ('dissat_cols')\n",
    "- create a function 'update_vals', pass the dissat_cols of each dataframe to it. The function will replace original values in the dissat_cols with True/False.\n",
    "- Created new columns 'Dissatisfied' in each dataframe.\n",
    "- populated the newly created 'dissatisfied' column with true if any of the dissat_cols were marked true\n",
    "\n",
    "We note that the DETE dataframe already already contains only true/false for it's dissat_cols."
   ]
  },
  {
   "cell_type": "code",
   "execution_count": 12,
   "metadata": {
    "collapsed": false
   },
   "outputs": [],
   "source": [
    "#Define lists of columns in each dataframe indicating employee dissatifaction\n",
    "tafe_dissat_cols = ['Contributing Factors. Dissatisfaction', 'Contributing Factors. Job Dissatisfaction']\n",
    "dete_dissat_cols = ['job_dissatisfaction','dissatisfaction_with_the_department','physical_work_environment','lack_of_recognition','lack_of_job_security','work_location','employment_conditions','work_life_balance','workload']\n",
    "\n",
    "def update_vals(cols):\n",
    "    if pd.isnull(cols):\n",
    "        return np.nan\n",
    "    elif cols == '-':\n",
    "        return False\n",
    "    else:\n",
    "        return True\n",
    "    \n",
    "tafe_resignations[tafe_dissat_cols] = tafe_resignations[tafe_dissat_cols].applymap(update_vals)\n",
    "\n",
    "#Create New Bool column \"Dissatisfied\"\n",
    "#True of any of the dissat_cols = True.\n",
    "dete_resignations['dissatisfied'] = dete_resignations[dete_dissat_cols].any(axis=1, skipna=False)\n",
    "tafe_resignations['dissatisfied'] = tafe_resignations[tafe_dissat_cols].any(axis=1, skipna=False)\n",
    "\n",
    "dete_resignations_up = dete_resignations.copy()\n",
    "tafe_resignations_up = tafe_resignations.copy()\n",
    "\n",
    "#DETE cols are already bool values. No need to alter"
   ]
  },
  {
   "cell_type": "markdown",
   "metadata": {},
   "source": [
    "## Combining Data\n",
    "\n",
    "Finally, we have cleaned all the data we need to in order to answer the question outlined at the start of this document. We will now join the two data sets together in order to answer the question using both serveys.\n",
    "\n",
    "We will use the pd.concat() method join the two dataframes vertically. Any like columns (i.e. 'id' and 'institute_service') will not be duplicated. All other columns will be kept, therfore created many entries with NULL values for the other dataframe. We will keep all entries with less than 500 null values."
   ]
  },
  {
   "cell_type": "code",
   "execution_count": 26,
   "metadata": {
    "collapsed": false
   },
   "outputs": [
    {
     "output_type": "execute_result",
     "data": {
      "text/plain": "   id                        separationtype  cease_date  institute_service  \\\n0   4             Resignation-Other reasons      2012.0                7.0   \n1   6             Resignation-Other reasons      2012.0               18.0   \n2   9             Resignation-Other reasons      2012.0                3.0   \n3  10            Resignation-Other employer      2012.0               15.0   \n4  12  Resignation-Move overseas/interstate      2012.0                3.0   \n5  13             Resignation-Other reasons      2012.0               14.0   \n6  15            Resignation-Other employer      2012.0                5.0   \n7  17             Resignation-Other reasons      2012.0                NaN   \n8  21            Resignation-Other employer      2012.0               30.0   \n9  22             Resignation-Other reasons      2012.0               32.0   \n\n  dissatisfied institute  \n0        False      DETE  \n1         True      DETE  \n2        False      DETE  \n3         True      DETE  \n4        False      DETE  \n5        False      DETE  \n6         True      DETE  \n7         True      DETE  \n8        False      DETE  \n9        False      DETE  ",
      "text/html": "<div>\n<style scoped>\n    .dataframe tbody tr th:only-of-type {\n        vertical-align: middle;\n    }\n\n    .dataframe tbody tr th {\n        vertical-align: top;\n    }\n\n    .dataframe thead th {\n        text-align: right;\n    }\n</style>\n<table border=\"1\" class=\"dataframe\">\n  <thead>\n    <tr style=\"text-align: right;\">\n      <th></th>\n      <th>id</th>\n      <th>separationtype</th>\n      <th>cease_date</th>\n      <th>institute_service</th>\n      <th>dissatisfied</th>\n      <th>institute</th>\n    </tr>\n  </thead>\n  <tbody>\n    <tr>\n      <th>0</th>\n      <td>4</td>\n      <td>Resignation-Other reasons</td>\n      <td>2012.0</td>\n      <td>7.0</td>\n      <td>False</td>\n      <td>DETE</td>\n    </tr>\n    <tr>\n      <th>1</th>\n      <td>6</td>\n      <td>Resignation-Other reasons</td>\n      <td>2012.0</td>\n      <td>18.0</td>\n      <td>True</td>\n      <td>DETE</td>\n    </tr>\n    <tr>\n      <th>2</th>\n      <td>9</td>\n      <td>Resignation-Other reasons</td>\n      <td>2012.0</td>\n      <td>3.0</td>\n      <td>False</td>\n      <td>DETE</td>\n    </tr>\n    <tr>\n      <th>3</th>\n      <td>10</td>\n      <td>Resignation-Other employer</td>\n      <td>2012.0</td>\n      <td>15.0</td>\n      <td>True</td>\n      <td>DETE</td>\n    </tr>\n    <tr>\n      <th>4</th>\n      <td>12</td>\n      <td>Resignation-Move overseas/interstate</td>\n      <td>2012.0</td>\n      <td>3.0</td>\n      <td>False</td>\n      <td>DETE</td>\n    </tr>\n    <tr>\n      <th>5</th>\n      <td>13</td>\n      <td>Resignation-Other reasons</td>\n      <td>2012.0</td>\n      <td>14.0</td>\n      <td>False</td>\n      <td>DETE</td>\n    </tr>\n    <tr>\n      <th>6</th>\n      <td>15</td>\n      <td>Resignation-Other employer</td>\n      <td>2012.0</td>\n      <td>5.0</td>\n      <td>True</td>\n      <td>DETE</td>\n    </tr>\n    <tr>\n      <th>7</th>\n      <td>17</td>\n      <td>Resignation-Other reasons</td>\n      <td>2012.0</td>\n      <td>NaN</td>\n      <td>True</td>\n      <td>DETE</td>\n    </tr>\n    <tr>\n      <th>8</th>\n      <td>21</td>\n      <td>Resignation-Other employer</td>\n      <td>2012.0</td>\n      <td>30.0</td>\n      <td>False</td>\n      <td>DETE</td>\n    </tr>\n    <tr>\n      <th>9</th>\n      <td>22</td>\n      <td>Resignation-Other reasons</td>\n      <td>2012.0</td>\n      <td>32.0</td>\n      <td>False</td>\n      <td>DETE</td>\n    </tr>\n  </tbody>\n</table>\n</div>"
     },
     "metadata": {},
     "execution_count": 26
    }
   ],
   "source": [
    "dete_resignations_up['institute'] = 'DETE'\n",
    "tafe_resignations_up['institute'] = 'TAFE'\n",
    "\n",
    "combined = pd.concat([dete_resignations_up,tafe_resignations_up], axis=0, ignore_index=True)\n",
    "combined_updated = combined.dropna(axis=1, thresh=500)\n",
    "combined_updated.head(10)\n"
   ]
  },
  {
   "cell_type": "code",
   "execution_count": 22,
   "metadata": {
    "collapsed": false
   },
   "outputs": [
    {
     "output_type": "execute_result",
     "data": {
      "text/plain": "1.0     95\nNaN     88\n4.0     79\n2.0     78\n6.0     50\n16.0    31\n8.0     29\n5.0     23\n3.0     20\n0.0     20\nName: institute_service, dtype: int64"
     },
     "metadata": {},
     "execution_count": 22
    }
   ],
   "source": [
    "institute_service = combined['institute_service'].value_counts(dropna=False)\n",
    "institute_service.head(10)"
   ]
  },
  {
   "cell_type": "markdown",
   "metadata": {},
   "source": [
    "## Data Transformation - Categorize Years of Service\n",
    "\n",
    "To make the data easier to visualize, we will create a function to categorize an employees years of service with the institute. A mapping function is developed to convert values in the 'combined' dataframe's institute_service column into a string. The returned value is stored in a new column called 'cat_service' for 'categorized institute_service'.\n",
    "\n",
    "- if institute_service < 3 years --> return \"New\"\n",
    "- if 3 < institute_service < 6 years --> return \"Experienced\"\n",
    "- if 7 < institute_service < 10 years --> return \"Established\"\n",
    "- if institute_service > 10 years --> return \"Veteran\"\n",
    "\n",
    "These new buckets will make it easy to aggregate the data based off of employee experience levels."
   ]
  },
  {
   "cell_type": "code",
   "execution_count": 15,
   "metadata": {
    "collapsed": false
   },
   "outputs": [],
   "source": [
    "def map_service(col):\n",
    "    if pd.isnull(col):\n",
    "        return np.nan\n",
    "    elif (col<3):\n",
    "        return \"New\"\n",
    "    elif (3<=col<=6):\n",
    "        return \"Experienced\"\n",
    "    elif (7<=col<=10):\n",
    "        return \"Established\"\n",
    "    else:\n",
    "        return \"Veteran\"\n",
    "    \n",
    "combined['service_cat'] = combined['institute_service'].apply(map_service)  "
   ]
  },
  {
   "cell_type": "code",
   "execution_count": 16,
   "metadata": {
    "collapsed": false
   },
   "outputs": [
    {
     "output_type": "execute_result",
     "data": {
      "text/plain": "False    403\nTrue     240\nTrue       8\nName: dissatisfied, dtype: int64"
     },
     "metadata": {},
     "execution_count": 16
    }
   ],
   "source": [
    "#Check Dissatisfied Column for NaN or other values\n",
    "combined['dissatisfied'].value_counts(dropna=False)"
   ]
  },
  {
   "cell_type": "code",
   "execution_count": 17,
   "metadata": {
    "collapsed": false
   },
   "outputs": [
    {
     "output_type": "execute_result",
     "data": {
      "text/plain": "False    411\nTrue     240\nName: dissatisfied, dtype: int64"
     },
     "metadata": {},
     "execution_count": 17
    }
   ],
   "source": [
    "#Convert NaN values to the most frequently occuring value in the column\n",
    "combined['dissatisfied']=combined['dissatisfied'].fillna(False)\n",
    "combined['dissatisfied'].value_counts(dropna=False)"
   ]
  },
  {
   "cell_type": "markdown",
   "metadata": {},
   "source": [
    "## Visualize the Data\n",
    "\n",
    "Finally we use the df.pivot_table() method to aggregate the data based off of employee experience. We will use the 'service_cat' column as the pivot table index's and the 'dissatisfied' column as the columns. The default aggregate function for the .pivot_table() method is np.mean() and therefore the data corresponding to the index's in the pivot table will represent the average dissatifaction amongst all employees who resigned in that experience level category. \n",
    "\n",
    "We then plot the data in a bar graph to help visualize the results."
   ]
  },
  {
   "cell_type": "code",
   "execution_count": 18,
   "metadata": {
    "collapsed": false
   },
   "outputs": [
    {
     "output_type": "execute_result",
     "data": {
      "text/plain": "<matplotlib.axes._subplots.AxesSubplot at 0x17cfb8a4cc8>"
     },
     "metadata": {},
     "execution_count": 18
    },
    {
     "output_type": "display_data",
     "data": {
      "text/plain": "<Figure size 432x288 with 1 Axes>",
      "image/svg+xml": "<?xml version=\"1.0\" encoding=\"utf-8\" standalone=\"no\"?>\r\n<!DOCTYPE svg PUBLIC \"-//W3C//DTD SVG 1.1//EN\"\r\n  \"http://www.w3.org/Graphics/SVG/1.1/DTD/svg11.dtd\">\r\n<!-- Created with matplotlib (https://matplotlib.org/) -->\r\n<svg height=\"330.033125pt\" version=\"1.1\" viewBox=\"0 0 442.19625 330.033125\" width=\"442.19625pt\" xmlns=\"http://www.w3.org/2000/svg\" xmlns:xlink=\"http://www.w3.org/1999/xlink\">\r\n <defs>\r\n  <style type=\"text/css\">\r\n*{stroke-linecap:butt;stroke-linejoin:round;}\r\n  </style>\r\n </defs>\r\n <g id=\"figure_1\">\r\n  <g id=\"patch_1\">\r\n   <path d=\"M 0 330.033125 \r\nL 442.19625 330.033125 \r\nL 442.19625 0 \r\nL 0 0 \r\nz\r\n\" style=\"fill:none;\"/>\r\n  </g>\r\n  <g id=\"axes_1\">\r\n   <g id=\"patch_2\">\r\n    <path d=\"M 53.698125 239.758125 \r\nL 388.498125 239.758125 \r\nL 388.498125 22.318125 \r\nL 53.698125 22.318125 \r\nz\r\n\" style=\"fill:#ffffff;\"/>\r\n   </g>\r\n   <g id=\"patch_3\">\r\n    <path clip-path=\"url(#p29597eafe4)\" d=\"M 74.623125 239.758125 \r\nL 116.473125 239.758125 \r\nL 116.473125 32.672411 \r\nL 74.623125 32.672411 \r\nz\r\n\" style=\"fill:#1f77b4;\"/>\r\n   </g>\r\n   <g id=\"patch_4\">\r\n    <path clip-path=\"url(#p29597eafe4)\" d=\"M 158.323125 239.758125 \r\nL 200.173125 239.758125 \r\nL 200.173125 102.127394 \r\nL 158.323125 102.127394 \r\nz\r\n\" style=\"fill:#1f77b4;\"/>\r\n   </g>\r\n   <g id=\"patch_5\">\r\n    <path clip-path=\"url(#p29597eafe4)\" d=\"M 242.023125 239.758125 \r\nL 283.873125 239.758125 \r\nL 283.873125 121.260568 \r\nL 242.023125 121.260568 \r\nz\r\n\" style=\"fill:#1f77b4;\"/>\r\n   </g>\r\n   <g id=\"patch_6\">\r\n    <path clip-path=\"url(#p29597eafe4)\" d=\"M 325.723125 239.758125 \r\nL 367.573125 239.758125 \r\nL 367.573125 45.044259 \r\nL 325.723125 45.044259 \r\nz\r\n\" style=\"fill:#1f77b4;\"/>\r\n   </g>\r\n   <g id=\"matplotlib.axis_1\">\r\n    <g id=\"xtick_1\">\r\n     <g id=\"line2d_1\">\r\n      <defs>\r\n       <path d=\"M 0 0 \r\nL 0 3.5 \r\n\" id=\"m0acde45de0\" style=\"stroke:#000000;stroke-width:0.8;\"/>\r\n      </defs>\r\n      <g>\r\n       <use style=\"stroke:#000000;stroke-width:0.8;\" x=\"95.548125\" xlink:href=\"#m0acde45de0\" y=\"239.758125\"/>\r\n      </g>\r\n     </g>\r\n     <g id=\"text_1\">\r\n      <!-- Established -->\r\n      <defs>\r\n       <path d=\"M 9.8125 72.90625 \r\nL 55.90625 72.90625 \r\nL 55.90625 64.59375 \r\nL 19.671875 64.59375 \r\nL 19.671875 43.015625 \r\nL 54.390625 43.015625 \r\nL 54.390625 34.71875 \r\nL 19.671875 34.71875 \r\nL 19.671875 8.296875 \r\nL 56.78125 8.296875 \r\nL 56.78125 0 \r\nL 9.8125 0 \r\nz\r\n\" id=\"DejaVuSans-69\"/>\r\n       <path d=\"M 44.28125 53.078125 \r\nL 44.28125 44.578125 \r\nQ 40.484375 46.53125 36.375 47.5 \r\nQ 32.28125 48.484375 27.875 48.484375 \r\nQ 21.1875 48.484375 17.84375 46.4375 \r\nQ 14.5 44.390625 14.5 40.28125 \r\nQ 14.5 37.15625 16.890625 35.375 \r\nQ 19.28125 33.59375 26.515625 31.984375 \r\nL 29.59375 31.296875 \r\nQ 39.15625 29.25 43.1875 25.515625 \r\nQ 47.21875 21.78125 47.21875 15.09375 \r\nQ 47.21875 7.46875 41.1875 3.015625 \r\nQ 35.15625 -1.421875 24.609375 -1.421875 \r\nQ 20.21875 -1.421875 15.453125 -0.5625 \r\nQ 10.6875 0.296875 5.421875 2 \r\nL 5.421875 11.28125 \r\nQ 10.40625 8.6875 15.234375 7.390625 \r\nQ 20.0625 6.109375 24.8125 6.109375 \r\nQ 31.15625 6.109375 34.5625 8.28125 \r\nQ 37.984375 10.453125 37.984375 14.40625 \r\nQ 37.984375 18.0625 35.515625 20.015625 \r\nQ 33.0625 21.96875 24.703125 23.78125 \r\nL 21.578125 24.515625 \r\nQ 13.234375 26.265625 9.515625 29.90625 \r\nQ 5.8125 33.546875 5.8125 39.890625 \r\nQ 5.8125 47.609375 11.28125 51.796875 \r\nQ 16.75 56 26.8125 56 \r\nQ 31.78125 56 36.171875 55.265625 \r\nQ 40.578125 54.546875 44.28125 53.078125 \r\nz\r\n\" id=\"DejaVuSans-115\"/>\r\n       <path d=\"M 18.3125 70.21875 \r\nL 18.3125 54.6875 \r\nL 36.8125 54.6875 \r\nL 36.8125 47.703125 \r\nL 18.3125 47.703125 \r\nL 18.3125 18.015625 \r\nQ 18.3125 11.328125 20.140625 9.421875 \r\nQ 21.96875 7.515625 27.59375 7.515625 \r\nL 36.8125 7.515625 \r\nL 36.8125 0 \r\nL 27.59375 0 \r\nQ 17.1875 0 13.234375 3.875 \r\nQ 9.28125 7.765625 9.28125 18.015625 \r\nL 9.28125 47.703125 \r\nL 2.6875 47.703125 \r\nL 2.6875 54.6875 \r\nL 9.28125 54.6875 \r\nL 9.28125 70.21875 \r\nz\r\n\" id=\"DejaVuSans-116\"/>\r\n       <path d=\"M 34.28125 27.484375 \r\nQ 23.390625 27.484375 19.1875 25 \r\nQ 14.984375 22.515625 14.984375 16.5 \r\nQ 14.984375 11.71875 18.140625 8.90625 \r\nQ 21.296875 6.109375 26.703125 6.109375 \r\nQ 34.1875 6.109375 38.703125 11.40625 \r\nQ 43.21875 16.703125 43.21875 25.484375 \r\nL 43.21875 27.484375 \r\nz\r\nM 52.203125 31.203125 \r\nL 52.203125 0 \r\nL 43.21875 0 \r\nL 43.21875 8.296875 \r\nQ 40.140625 3.328125 35.546875 0.953125 \r\nQ 30.953125 -1.421875 24.3125 -1.421875 \r\nQ 15.921875 -1.421875 10.953125 3.296875 \r\nQ 6 8.015625 6 15.921875 \r\nQ 6 25.140625 12.171875 29.828125 \r\nQ 18.359375 34.515625 30.609375 34.515625 \r\nL 43.21875 34.515625 \r\nL 43.21875 35.40625 \r\nQ 43.21875 41.609375 39.140625 45 \r\nQ 35.0625 48.390625 27.6875 48.390625 \r\nQ 23 48.390625 18.546875 47.265625 \r\nQ 14.109375 46.140625 10.015625 43.890625 \r\nL 10.015625 52.203125 \r\nQ 14.9375 54.109375 19.578125 55.046875 \r\nQ 24.21875 56 28.609375 56 \r\nQ 40.484375 56 46.34375 49.84375 \r\nQ 52.203125 43.703125 52.203125 31.203125 \r\nz\r\n\" id=\"DejaVuSans-97\"/>\r\n       <path d=\"M 48.6875 27.296875 \r\nQ 48.6875 37.203125 44.609375 42.84375 \r\nQ 40.53125 48.484375 33.40625 48.484375 \r\nQ 26.265625 48.484375 22.1875 42.84375 \r\nQ 18.109375 37.203125 18.109375 27.296875 \r\nQ 18.109375 17.390625 22.1875 11.75 \r\nQ 26.265625 6.109375 33.40625 6.109375 \r\nQ 40.53125 6.109375 44.609375 11.75 \r\nQ 48.6875 17.390625 48.6875 27.296875 \r\nz\r\nM 18.109375 46.390625 \r\nQ 20.953125 51.265625 25.265625 53.625 \r\nQ 29.59375 56 35.59375 56 \r\nQ 45.5625 56 51.78125 48.09375 \r\nQ 58.015625 40.1875 58.015625 27.296875 \r\nQ 58.015625 14.40625 51.78125 6.484375 \r\nQ 45.5625 -1.421875 35.59375 -1.421875 \r\nQ 29.59375 -1.421875 25.265625 0.953125 \r\nQ 20.953125 3.328125 18.109375 8.203125 \r\nL 18.109375 0 \r\nL 9.078125 0 \r\nL 9.078125 75.984375 \r\nL 18.109375 75.984375 \r\nz\r\n\" id=\"DejaVuSans-98\"/>\r\n       <path d=\"M 9.421875 75.984375 \r\nL 18.40625 75.984375 \r\nL 18.40625 0 \r\nL 9.421875 0 \r\nz\r\n\" id=\"DejaVuSans-108\"/>\r\n       <path d=\"M 9.421875 54.6875 \r\nL 18.40625 54.6875 \r\nL 18.40625 0 \r\nL 9.421875 0 \r\nz\r\nM 9.421875 75.984375 \r\nL 18.40625 75.984375 \r\nL 18.40625 64.59375 \r\nL 9.421875 64.59375 \r\nz\r\n\" id=\"DejaVuSans-105\"/>\r\n       <path d=\"M 54.890625 33.015625 \r\nL 54.890625 0 \r\nL 45.90625 0 \r\nL 45.90625 32.71875 \r\nQ 45.90625 40.484375 42.875 44.328125 \r\nQ 39.84375 48.1875 33.796875 48.1875 \r\nQ 26.515625 48.1875 22.3125 43.546875 \r\nQ 18.109375 38.921875 18.109375 30.90625 \r\nL 18.109375 0 \r\nL 9.078125 0 \r\nL 9.078125 75.984375 \r\nL 18.109375 75.984375 \r\nL 18.109375 46.1875 \r\nQ 21.34375 51.125 25.703125 53.5625 \r\nQ 30.078125 56 35.796875 56 \r\nQ 45.21875 56 50.046875 50.171875 \r\nQ 54.890625 44.34375 54.890625 33.015625 \r\nz\r\n\" id=\"DejaVuSans-104\"/>\r\n       <path d=\"M 56.203125 29.59375 \r\nL 56.203125 25.203125 \r\nL 14.890625 25.203125 \r\nQ 15.484375 15.921875 20.484375 11.0625 \r\nQ 25.484375 6.203125 34.421875 6.203125 \r\nQ 39.59375 6.203125 44.453125 7.46875 \r\nQ 49.3125 8.734375 54.109375 11.28125 \r\nL 54.109375 2.78125 \r\nQ 49.265625 0.734375 44.1875 -0.34375 \r\nQ 39.109375 -1.421875 33.890625 -1.421875 \r\nQ 20.796875 -1.421875 13.15625 6.1875 \r\nQ 5.515625 13.8125 5.515625 26.8125 \r\nQ 5.515625 40.234375 12.765625 48.109375 \r\nQ 20.015625 56 32.328125 56 \r\nQ 43.359375 56 49.78125 48.890625 \r\nQ 56.203125 41.796875 56.203125 29.59375 \r\nz\r\nM 47.21875 32.234375 \r\nQ 47.125 39.59375 43.09375 43.984375 \r\nQ 39.0625 48.390625 32.421875 48.390625 \r\nQ 24.90625 48.390625 20.390625 44.140625 \r\nQ 15.875 39.890625 15.1875 32.171875 \r\nz\r\n\" id=\"DejaVuSans-101\"/>\r\n       <path d=\"M 45.40625 46.390625 \r\nL 45.40625 75.984375 \r\nL 54.390625 75.984375 \r\nL 54.390625 0 \r\nL 45.40625 0 \r\nL 45.40625 8.203125 \r\nQ 42.578125 3.328125 38.25 0.953125 \r\nQ 33.9375 -1.421875 27.875 -1.421875 \r\nQ 17.96875 -1.421875 11.734375 6.484375 \r\nQ 5.515625 14.40625 5.515625 27.296875 \r\nQ 5.515625 40.1875 11.734375 48.09375 \r\nQ 17.96875 56 27.875 56 \r\nQ 33.9375 56 38.25 53.625 \r\nQ 42.578125 51.265625 45.40625 46.390625 \r\nz\r\nM 14.796875 27.296875 \r\nQ 14.796875 17.390625 18.875 11.75 \r\nQ 22.953125 6.109375 30.078125 6.109375 \r\nQ 37.203125 6.109375 41.296875 11.75 \r\nQ 45.40625 17.390625 45.40625 27.296875 \r\nQ 45.40625 37.203125 41.296875 42.84375 \r\nQ 37.203125 48.484375 30.078125 48.484375 \r\nQ 22.953125 48.484375 18.875 42.84375 \r\nQ 14.796875 37.203125 14.796875 27.296875 \r\nz\r\n\" id=\"DejaVuSans-100\"/>\r\n      </defs>\r\n      <g transform=\"translate(98.3075 304.287812)rotate(-90)scale(0.1 -0.1)\">\r\n       <use xlink:href=\"#DejaVuSans-69\"/>\r\n       <use x=\"63.183594\" xlink:href=\"#DejaVuSans-115\"/>\r\n       <use x=\"115.283203\" xlink:href=\"#DejaVuSans-116\"/>\r\n       <use x=\"154.492188\" xlink:href=\"#DejaVuSans-97\"/>\r\n       <use x=\"215.771484\" xlink:href=\"#DejaVuSans-98\"/>\r\n       <use x=\"279.248047\" xlink:href=\"#DejaVuSans-108\"/>\r\n       <use x=\"307.03125\" xlink:href=\"#DejaVuSans-105\"/>\r\n       <use x=\"334.814453\" xlink:href=\"#DejaVuSans-115\"/>\r\n       <use x=\"386.914062\" xlink:href=\"#DejaVuSans-104\"/>\r\n       <use x=\"450.292969\" xlink:href=\"#DejaVuSans-101\"/>\r\n       <use x=\"511.816406\" xlink:href=\"#DejaVuSans-100\"/>\r\n      </g>\r\n     </g>\r\n    </g>\r\n    <g id=\"xtick_2\">\r\n     <g id=\"line2d_2\">\r\n      <g>\r\n       <use style=\"stroke:#000000;stroke-width:0.8;\" x=\"179.248125\" xlink:href=\"#m0acde45de0\" y=\"239.758125\"/>\r\n      </g>\r\n     </g>\r\n     <g id=\"text_2\">\r\n      <!-- Experienced -->\r\n      <defs>\r\n       <path d=\"M 54.890625 54.6875 \r\nL 35.109375 28.078125 \r\nL 55.90625 0 \r\nL 45.3125 0 \r\nL 29.390625 21.484375 \r\nL 13.484375 0 \r\nL 2.875 0 \r\nL 24.125 28.609375 \r\nL 4.6875 54.6875 \r\nL 15.28125 54.6875 \r\nL 29.78125 35.203125 \r\nL 44.28125 54.6875 \r\nz\r\n\" id=\"DejaVuSans-120\"/>\r\n       <path d=\"M 18.109375 8.203125 \r\nL 18.109375 -20.796875 \r\nL 9.078125 -20.796875 \r\nL 9.078125 54.6875 \r\nL 18.109375 54.6875 \r\nL 18.109375 46.390625 \r\nQ 20.953125 51.265625 25.265625 53.625 \r\nQ 29.59375 56 35.59375 56 \r\nQ 45.5625 56 51.78125 48.09375 \r\nQ 58.015625 40.1875 58.015625 27.296875 \r\nQ 58.015625 14.40625 51.78125 6.484375 \r\nQ 45.5625 -1.421875 35.59375 -1.421875 \r\nQ 29.59375 -1.421875 25.265625 0.953125 \r\nQ 20.953125 3.328125 18.109375 8.203125 \r\nz\r\nM 48.6875 27.296875 \r\nQ 48.6875 37.203125 44.609375 42.84375 \r\nQ 40.53125 48.484375 33.40625 48.484375 \r\nQ 26.265625 48.484375 22.1875 42.84375 \r\nQ 18.109375 37.203125 18.109375 27.296875 \r\nQ 18.109375 17.390625 22.1875 11.75 \r\nQ 26.265625 6.109375 33.40625 6.109375 \r\nQ 40.53125 6.109375 44.609375 11.75 \r\nQ 48.6875 17.390625 48.6875 27.296875 \r\nz\r\n\" id=\"DejaVuSans-112\"/>\r\n       <path d=\"M 41.109375 46.296875 \r\nQ 39.59375 47.171875 37.8125 47.578125 \r\nQ 36.03125 48 33.890625 48 \r\nQ 26.265625 48 22.1875 43.046875 \r\nQ 18.109375 38.09375 18.109375 28.8125 \r\nL 18.109375 0 \r\nL 9.078125 0 \r\nL 9.078125 54.6875 \r\nL 18.109375 54.6875 \r\nL 18.109375 46.1875 \r\nQ 20.953125 51.171875 25.484375 53.578125 \r\nQ 30.03125 56 36.53125 56 \r\nQ 37.453125 56 38.578125 55.875 \r\nQ 39.703125 55.765625 41.0625 55.515625 \r\nz\r\n\" id=\"DejaVuSans-114\"/>\r\n       <path d=\"M 54.890625 33.015625 \r\nL 54.890625 0 \r\nL 45.90625 0 \r\nL 45.90625 32.71875 \r\nQ 45.90625 40.484375 42.875 44.328125 \r\nQ 39.84375 48.1875 33.796875 48.1875 \r\nQ 26.515625 48.1875 22.3125 43.546875 \r\nQ 18.109375 38.921875 18.109375 30.90625 \r\nL 18.109375 0 \r\nL 9.078125 0 \r\nL 9.078125 54.6875 \r\nL 18.109375 54.6875 \r\nL 18.109375 46.1875 \r\nQ 21.34375 51.125 25.703125 53.5625 \r\nQ 30.078125 56 35.796875 56 \r\nQ 45.21875 56 50.046875 50.171875 \r\nQ 54.890625 44.34375 54.890625 33.015625 \r\nz\r\n\" id=\"DejaVuSans-110\"/>\r\n       <path d=\"M 48.78125 52.59375 \r\nL 48.78125 44.1875 \r\nQ 44.96875 46.296875 41.140625 47.34375 \r\nQ 37.3125 48.390625 33.40625 48.390625 \r\nQ 24.65625 48.390625 19.8125 42.84375 \r\nQ 14.984375 37.3125 14.984375 27.296875 \r\nQ 14.984375 17.28125 19.8125 11.734375 \r\nQ 24.65625 6.203125 33.40625 6.203125 \r\nQ 37.3125 6.203125 41.140625 7.25 \r\nQ 44.96875 8.296875 48.78125 10.40625 \r\nL 48.78125 2.09375 \r\nQ 45.015625 0.34375 40.984375 -0.53125 \r\nQ 36.96875 -1.421875 32.421875 -1.421875 \r\nQ 20.0625 -1.421875 12.78125 6.34375 \r\nQ 5.515625 14.109375 5.515625 27.296875 \r\nQ 5.515625 40.671875 12.859375 48.328125 \r\nQ 20.21875 56 33.015625 56 \r\nQ 37.15625 56 41.109375 55.140625 \r\nQ 45.0625 54.296875 48.78125 52.59375 \r\nz\r\n\" id=\"DejaVuSans-99\"/>\r\n      </defs>\r\n      <g transform=\"translate(182.0075 308.876875)rotate(-90)scale(0.1 -0.1)\">\r\n       <use xlink:href=\"#DejaVuSans-69\"/>\r\n       <use x=\"63.183594\" xlink:href=\"#DejaVuSans-120\"/>\r\n       <use x=\"122.363281\" xlink:href=\"#DejaVuSans-112\"/>\r\n       <use x=\"185.839844\" xlink:href=\"#DejaVuSans-101\"/>\r\n       <use x=\"247.363281\" xlink:href=\"#DejaVuSans-114\"/>\r\n       <use x=\"288.476562\" xlink:href=\"#DejaVuSans-105\"/>\r\n       <use x=\"316.259766\" xlink:href=\"#DejaVuSans-101\"/>\r\n       <use x=\"377.783203\" xlink:href=\"#DejaVuSans-110\"/>\r\n       <use x=\"441.162109\" xlink:href=\"#DejaVuSans-99\"/>\r\n       <use x=\"496.142578\" xlink:href=\"#DejaVuSans-101\"/>\r\n       <use x=\"557.666016\" xlink:href=\"#DejaVuSans-100\"/>\r\n      </g>\r\n     </g>\r\n    </g>\r\n    <g id=\"xtick_3\">\r\n     <g id=\"line2d_3\">\r\n      <g>\r\n       <use style=\"stroke:#000000;stroke-width:0.8;\" x=\"262.948125\" xlink:href=\"#m0acde45de0\" y=\"239.758125\"/>\r\n      </g>\r\n     </g>\r\n     <g id=\"text_3\">\r\n      <!-- New -->\r\n      <defs>\r\n       <path d=\"M 9.8125 72.90625 \r\nL 23.09375 72.90625 \r\nL 55.421875 11.921875 \r\nL 55.421875 72.90625 \r\nL 64.984375 72.90625 \r\nL 64.984375 0 \r\nL 51.703125 0 \r\nL 19.390625 60.984375 \r\nL 19.390625 0 \r\nL 9.8125 0 \r\nz\r\n\" id=\"DejaVuSans-78\"/>\r\n       <path d=\"M 4.203125 54.6875 \r\nL 13.1875 54.6875 \r\nL 24.421875 12.015625 \r\nL 35.59375 54.6875 \r\nL 46.1875 54.6875 \r\nL 57.421875 12.015625 \r\nL 68.609375 54.6875 \r\nL 77.59375 54.6875 \r\nL 63.28125 0 \r\nL 52.6875 0 \r\nL 40.921875 44.828125 \r\nL 29.109375 0 \r\nL 18.5 0 \r\nz\r\n\" id=\"DejaVuSans-119\"/>\r\n      </defs>\r\n      <g transform=\"translate(265.7075 268.570625)rotate(-90)scale(0.1 -0.1)\">\r\n       <use xlink:href=\"#DejaVuSans-78\"/>\r\n       <use x=\"74.804688\" xlink:href=\"#DejaVuSans-101\"/>\r\n       <use x=\"136.328125\" xlink:href=\"#DejaVuSans-119\"/>\r\n      </g>\r\n     </g>\r\n    </g>\r\n    <g id=\"xtick_4\">\r\n     <g id=\"line2d_4\">\r\n      <g>\r\n       <use style=\"stroke:#000000;stroke-width:0.8;\" x=\"346.648125\" xlink:href=\"#m0acde45de0\" y=\"239.758125\"/>\r\n      </g>\r\n     </g>\r\n     <g id=\"text_4\">\r\n      <!-- Veteran -->\r\n      <defs>\r\n       <path d=\"M 28.609375 0 \r\nL 0.78125 72.90625 \r\nL 11.078125 72.90625 \r\nL 34.1875 11.53125 \r\nL 57.328125 72.90625 \r\nL 67.578125 72.90625 \r\nL 39.796875 0 \r\nz\r\n\" id=\"DejaVuSans-86\"/>\r\n      </defs>\r\n      <g transform=\"translate(349.4075 286.390938)rotate(-90)scale(0.1 -0.1)\">\r\n       <use xlink:href=\"#DejaVuSans-86\"/>\r\n       <use x=\"68.298828\" xlink:href=\"#DejaVuSans-101\"/>\r\n       <use x=\"129.822266\" xlink:href=\"#DejaVuSans-116\"/>\r\n       <use x=\"169.03125\" xlink:href=\"#DejaVuSans-101\"/>\r\n       <use x=\"230.554688\" xlink:href=\"#DejaVuSans-114\"/>\r\n       <use x=\"271.667969\" xlink:href=\"#DejaVuSans-97\"/>\r\n       <use x=\"332.947266\" xlink:href=\"#DejaVuSans-110\"/>\r\n      </g>\r\n     </g>\r\n    </g>\r\n    <g id=\"text_5\">\r\n     <!-- service_cat -->\r\n     <defs>\r\n      <path d=\"M 2.984375 54.6875 \r\nL 12.5 54.6875 \r\nL 29.59375 8.796875 \r\nL 46.6875 54.6875 \r\nL 56.203125 54.6875 \r\nL 35.6875 0 \r\nL 23.484375 0 \r\nz\r\n\" id=\"DejaVuSans-118\"/>\r\n      <path d=\"M 50.984375 -16.609375 \r\nL 50.984375 -23.578125 \r\nL -0.984375 -23.578125 \r\nL -0.984375 -16.609375 \r\nz\r\n\" id=\"DejaVuSans-95\"/>\r\n     </defs>\r\n     <g transform=\"translate(192.91375 320.475312)scale(0.1 -0.1)\">\r\n      <use xlink:href=\"#DejaVuSans-115\"/>\r\n      <use x=\"52.099609\" xlink:href=\"#DejaVuSans-101\"/>\r\n      <use x=\"113.623047\" xlink:href=\"#DejaVuSans-114\"/>\r\n      <use x=\"154.736328\" xlink:href=\"#DejaVuSans-118\"/>\r\n      <use x=\"213.916016\" xlink:href=\"#DejaVuSans-105\"/>\r\n      <use x=\"241.699219\" xlink:href=\"#DejaVuSans-99\"/>\r\n      <use x=\"296.679688\" xlink:href=\"#DejaVuSans-101\"/>\r\n      <use x=\"358.203125\" xlink:href=\"#DejaVuSans-95\"/>\r\n      <use x=\"408.203125\" xlink:href=\"#DejaVuSans-99\"/>\r\n      <use x=\"463.183594\" xlink:href=\"#DejaVuSans-97\"/>\r\n      <use x=\"524.462891\" xlink:href=\"#DejaVuSans-116\"/>\r\n     </g>\r\n    </g>\r\n   </g>\r\n   <g id=\"matplotlib.axis_2\">\r\n    <g id=\"ytick_1\">\r\n     <g id=\"line2d_5\">\r\n      <defs>\r\n       <path d=\"M 0 0 \r\nL -3.5 0 \r\n\" id=\"m71386935c9\" style=\"stroke:#000000;stroke-width:0.8;\"/>\r\n      </defs>\r\n      <g>\r\n       <use style=\"stroke:#000000;stroke-width:0.8;\" x=\"53.698125\" xlink:href=\"#m71386935c9\" y=\"239.758125\"/>\r\n      </g>\r\n     </g>\r\n     <g id=\"text_6\">\r\n      <!-- 0.0 -->\r\n      <defs>\r\n       <path d=\"M 31.78125 66.40625 \r\nQ 24.171875 66.40625 20.328125 58.90625 \r\nQ 16.5 51.421875 16.5 36.375 \r\nQ 16.5 21.390625 20.328125 13.890625 \r\nQ 24.171875 6.390625 31.78125 6.390625 \r\nQ 39.453125 6.390625 43.28125 13.890625 \r\nQ 47.125 21.390625 47.125 36.375 \r\nQ 47.125 51.421875 43.28125 58.90625 \r\nQ 39.453125 66.40625 31.78125 66.40625 \r\nz\r\nM 31.78125 74.21875 \r\nQ 44.046875 74.21875 50.515625 64.515625 \r\nQ 56.984375 54.828125 56.984375 36.375 \r\nQ 56.984375 17.96875 50.515625 8.265625 \r\nQ 44.046875 -1.421875 31.78125 -1.421875 \r\nQ 19.53125 -1.421875 13.0625 8.265625 \r\nQ 6.59375 17.96875 6.59375 36.375 \r\nQ 6.59375 54.828125 13.0625 64.515625 \r\nQ 19.53125 74.21875 31.78125 74.21875 \r\nz\r\n\" id=\"DejaVuSans-48\"/>\r\n       <path d=\"M 10.6875 12.40625 \r\nL 21 12.40625 \r\nL 21 0 \r\nL 10.6875 0 \r\nz\r\n\" id=\"DejaVuSans-46\"/>\r\n      </defs>\r\n      <g transform=\"translate(30.795 243.557344)scale(0.1 -0.1)\">\r\n       <use xlink:href=\"#DejaVuSans-48\"/>\r\n       <use x=\"63.623047\" xlink:href=\"#DejaVuSans-46\"/>\r\n       <use x=\"95.410156\" xlink:href=\"#DejaVuSans-48\"/>\r\n      </g>\r\n     </g>\r\n    </g>\r\n    <g id=\"ytick_2\">\r\n     <g id=\"line2d_6\">\r\n      <g>\r\n       <use style=\"stroke:#000000;stroke-width:0.8;\" x=\"53.698125\" xlink:href=\"#m71386935c9\" y=\"199.635268\"/>\r\n      </g>\r\n     </g>\r\n     <g id=\"text_7\">\r\n      <!-- 0.1 -->\r\n      <defs>\r\n       <path d=\"M 12.40625 8.296875 \r\nL 28.515625 8.296875 \r\nL 28.515625 63.921875 \r\nL 10.984375 60.40625 \r\nL 10.984375 69.390625 \r\nL 28.421875 72.90625 \r\nL 38.28125 72.90625 \r\nL 38.28125 8.296875 \r\nL 54.390625 8.296875 \r\nL 54.390625 0 \r\nL 12.40625 0 \r\nz\r\n\" id=\"DejaVuSans-49\"/>\r\n      </defs>\r\n      <g transform=\"translate(30.795 203.434487)scale(0.1 -0.1)\">\r\n       <use xlink:href=\"#DejaVuSans-48\"/>\r\n       <use x=\"63.623047\" xlink:href=\"#DejaVuSans-46\"/>\r\n       <use x=\"95.410156\" xlink:href=\"#DejaVuSans-49\"/>\r\n      </g>\r\n     </g>\r\n    </g>\r\n    <g id=\"ytick_3\">\r\n     <g id=\"line2d_7\">\r\n      <g>\r\n       <use style=\"stroke:#000000;stroke-width:0.8;\" x=\"53.698125\" xlink:href=\"#m71386935c9\" y=\"159.512411\"/>\r\n      </g>\r\n     </g>\r\n     <g id=\"text_8\">\r\n      <!-- 0.2 -->\r\n      <defs>\r\n       <path d=\"M 19.1875 8.296875 \r\nL 53.609375 8.296875 \r\nL 53.609375 0 \r\nL 7.328125 0 \r\nL 7.328125 8.296875 \r\nQ 12.9375 14.109375 22.625 23.890625 \r\nQ 32.328125 33.6875 34.8125 36.53125 \r\nQ 39.546875 41.84375 41.421875 45.53125 \r\nQ 43.3125 49.21875 43.3125 52.78125 \r\nQ 43.3125 58.59375 39.234375 62.25 \r\nQ 35.15625 65.921875 28.609375 65.921875 \r\nQ 23.96875 65.921875 18.8125 64.3125 \r\nQ 13.671875 62.703125 7.8125 59.421875 \r\nL 7.8125 69.390625 \r\nQ 13.765625 71.78125 18.9375 73 \r\nQ 24.125 74.21875 28.421875 74.21875 \r\nQ 39.75 74.21875 46.484375 68.546875 \r\nQ 53.21875 62.890625 53.21875 53.421875 \r\nQ 53.21875 48.921875 51.53125 44.890625 \r\nQ 49.859375 40.875 45.40625 35.40625 \r\nQ 44.1875 33.984375 37.640625 27.21875 \r\nQ 31.109375 20.453125 19.1875 8.296875 \r\nz\r\n\" id=\"DejaVuSans-50\"/>\r\n      </defs>\r\n      <g transform=\"translate(30.795 163.311629)scale(0.1 -0.1)\">\r\n       <use xlink:href=\"#DejaVuSans-48\"/>\r\n       <use x=\"63.623047\" xlink:href=\"#DejaVuSans-46\"/>\r\n       <use x=\"95.410156\" xlink:href=\"#DejaVuSans-50\"/>\r\n      </g>\r\n     </g>\r\n    </g>\r\n    <g id=\"ytick_4\">\r\n     <g id=\"line2d_8\">\r\n      <g>\r\n       <use style=\"stroke:#000000;stroke-width:0.8;\" x=\"53.698125\" xlink:href=\"#m71386935c9\" y=\"119.389554\"/>\r\n      </g>\r\n     </g>\r\n     <g id=\"text_9\">\r\n      <!-- 0.3 -->\r\n      <defs>\r\n       <path d=\"M 40.578125 39.3125 \r\nQ 47.65625 37.796875 51.625 33 \r\nQ 55.609375 28.21875 55.609375 21.1875 \r\nQ 55.609375 10.40625 48.1875 4.484375 \r\nQ 40.765625 -1.421875 27.09375 -1.421875 \r\nQ 22.515625 -1.421875 17.65625 -0.515625 \r\nQ 12.796875 0.390625 7.625 2.203125 \r\nL 7.625 11.71875 \r\nQ 11.71875 9.328125 16.59375 8.109375 \r\nQ 21.484375 6.890625 26.8125 6.890625 \r\nQ 36.078125 6.890625 40.9375 10.546875 \r\nQ 45.796875 14.203125 45.796875 21.1875 \r\nQ 45.796875 27.640625 41.28125 31.265625 \r\nQ 36.765625 34.90625 28.71875 34.90625 \r\nL 20.21875 34.90625 \r\nL 20.21875 43.015625 \r\nL 29.109375 43.015625 \r\nQ 36.375 43.015625 40.234375 45.921875 \r\nQ 44.09375 48.828125 44.09375 54.296875 \r\nQ 44.09375 59.90625 40.109375 62.90625 \r\nQ 36.140625 65.921875 28.71875 65.921875 \r\nQ 24.65625 65.921875 20.015625 65.03125 \r\nQ 15.375 64.15625 9.8125 62.3125 \r\nL 9.8125 71.09375 \r\nQ 15.4375 72.65625 20.34375 73.4375 \r\nQ 25.25 74.21875 29.59375 74.21875 \r\nQ 40.828125 74.21875 47.359375 69.109375 \r\nQ 53.90625 64.015625 53.90625 55.328125 \r\nQ 53.90625 49.265625 50.4375 45.09375 \r\nQ 46.96875 40.921875 40.578125 39.3125 \r\nz\r\n\" id=\"DejaVuSans-51\"/>\r\n      </defs>\r\n      <g transform=\"translate(30.795 123.188772)scale(0.1 -0.1)\">\r\n       <use xlink:href=\"#DejaVuSans-48\"/>\r\n       <use x=\"63.623047\" xlink:href=\"#DejaVuSans-46\"/>\r\n       <use x=\"95.410156\" xlink:href=\"#DejaVuSans-51\"/>\r\n      </g>\r\n     </g>\r\n    </g>\r\n    <g id=\"ytick_5\">\r\n     <g id=\"line2d_9\">\r\n      <g>\r\n       <use style=\"stroke:#000000;stroke-width:0.8;\" x=\"53.698125\" xlink:href=\"#m71386935c9\" y=\"79.266696\"/>\r\n      </g>\r\n     </g>\r\n     <g id=\"text_10\">\r\n      <!-- 0.4 -->\r\n      <defs>\r\n       <path d=\"M 37.796875 64.3125 \r\nL 12.890625 25.390625 \r\nL 37.796875 25.390625 \r\nz\r\nM 35.203125 72.90625 \r\nL 47.609375 72.90625 \r\nL 47.609375 25.390625 \r\nL 58.015625 25.390625 \r\nL 58.015625 17.1875 \r\nL 47.609375 17.1875 \r\nL 47.609375 0 \r\nL 37.796875 0 \r\nL 37.796875 17.1875 \r\nL 4.890625 17.1875 \r\nL 4.890625 26.703125 \r\nz\r\n\" id=\"DejaVuSans-52\"/>\r\n      </defs>\r\n      <g transform=\"translate(30.795 83.065915)scale(0.1 -0.1)\">\r\n       <use xlink:href=\"#DejaVuSans-48\"/>\r\n       <use x=\"63.623047\" xlink:href=\"#DejaVuSans-46\"/>\r\n       <use x=\"95.410156\" xlink:href=\"#DejaVuSans-52\"/>\r\n      </g>\r\n     </g>\r\n    </g>\r\n    <g id=\"ytick_6\">\r\n     <g id=\"line2d_10\">\r\n      <g>\r\n       <use style=\"stroke:#000000;stroke-width:0.8;\" x=\"53.698125\" xlink:href=\"#m71386935c9\" y=\"39.143839\"/>\r\n      </g>\r\n     </g>\r\n     <g id=\"text_11\">\r\n      <!-- 0.5 -->\r\n      <defs>\r\n       <path d=\"M 10.796875 72.90625 \r\nL 49.515625 72.90625 \r\nL 49.515625 64.59375 \r\nL 19.828125 64.59375 \r\nL 19.828125 46.734375 \r\nQ 21.96875 47.46875 24.109375 47.828125 \r\nQ 26.265625 48.1875 28.421875 48.1875 \r\nQ 40.625 48.1875 47.75 41.5 \r\nQ 54.890625 34.8125 54.890625 23.390625 \r\nQ 54.890625 11.625 47.5625 5.09375 \r\nQ 40.234375 -1.421875 26.90625 -1.421875 \r\nQ 22.3125 -1.421875 17.546875 -0.640625 \r\nQ 12.796875 0.140625 7.71875 1.703125 \r\nL 7.71875 11.625 \r\nQ 12.109375 9.234375 16.796875 8.0625 \r\nQ 21.484375 6.890625 26.703125 6.890625 \r\nQ 35.15625 6.890625 40.078125 11.328125 \r\nQ 45.015625 15.765625 45.015625 23.390625 \r\nQ 45.015625 31 40.078125 35.4375 \r\nQ 35.15625 39.890625 26.703125 39.890625 \r\nQ 22.75 39.890625 18.8125 39.015625 \r\nQ 14.890625 38.140625 10.796875 36.28125 \r\nz\r\n\" id=\"DejaVuSans-53\"/>\r\n      </defs>\r\n      <g transform=\"translate(30.795 42.943058)scale(0.1 -0.1)\">\r\n       <use xlink:href=\"#DejaVuSans-48\"/>\r\n       <use x=\"63.623047\" xlink:href=\"#DejaVuSans-46\"/>\r\n       <use x=\"95.410156\" xlink:href=\"#DejaVuSans-53\"/>\r\n      </g>\r\n     </g>\r\n    </g>\r\n   </g>\r\n   <g id=\"patch_7\">\r\n    <path d=\"M 53.698125 239.758125 \r\nL 53.698125 22.318125 \r\n\" style=\"fill:none;stroke:#000000;stroke-linecap:square;stroke-linejoin:miter;stroke-width:0.8;\"/>\r\n   </g>\r\n   <g id=\"patch_8\">\r\n    <path d=\"M 388.498125 239.758125 \r\nL 388.498125 22.318125 \r\n\" style=\"fill:none;stroke:#000000;stroke-linecap:square;stroke-linejoin:miter;stroke-width:0.8;\"/>\r\n   </g>\r\n   <g id=\"patch_9\">\r\n    <path d=\"M 53.698125 239.758125 \r\nL 388.498125 239.758125 \r\n\" style=\"fill:none;stroke:#000000;stroke-linecap:square;stroke-linejoin:miter;stroke-width:0.8;\"/>\r\n   </g>\r\n   <g id=\"patch_10\">\r\n    <path d=\"M 53.698125 22.318125 \r\nL 388.498125 22.318125 \r\n\" style=\"fill:none;stroke:#000000;stroke-linecap:square;stroke-linejoin:miter;stroke-width:0.8;\"/>\r\n   </g>\r\n   <g id=\"text_12\">\r\n    <!-- Employees Resigning due to Dissatisfaciton based on Experience Level -->\r\n    <defs>\r\n     <path d=\"M 52 44.1875 \r\nQ 55.375 50.25 60.0625 53.125 \r\nQ 64.75 56 71.09375 56 \r\nQ 79.640625 56 84.28125 50.015625 \r\nQ 88.921875 44.046875 88.921875 33.015625 \r\nL 88.921875 0 \r\nL 79.890625 0 \r\nL 79.890625 32.71875 \r\nQ 79.890625 40.578125 77.09375 44.375 \r\nQ 74.3125 48.1875 68.609375 48.1875 \r\nQ 61.625 48.1875 57.5625 43.546875 \r\nQ 53.515625 38.921875 53.515625 30.90625 \r\nL 53.515625 0 \r\nL 44.484375 0 \r\nL 44.484375 32.71875 \r\nQ 44.484375 40.625 41.703125 44.40625 \r\nQ 38.921875 48.1875 33.109375 48.1875 \r\nQ 26.21875 48.1875 22.15625 43.53125 \r\nQ 18.109375 38.875 18.109375 30.90625 \r\nL 18.109375 0 \r\nL 9.078125 0 \r\nL 9.078125 54.6875 \r\nL 18.109375 54.6875 \r\nL 18.109375 46.1875 \r\nQ 21.1875 51.21875 25.484375 53.609375 \r\nQ 29.78125 56 35.6875 56 \r\nQ 41.65625 56 45.828125 52.96875 \r\nQ 50 49.953125 52 44.1875 \r\nz\r\n\" id=\"DejaVuSans-109\"/>\r\n     <path d=\"M 30.609375 48.390625 \r\nQ 23.390625 48.390625 19.1875 42.75 \r\nQ 14.984375 37.109375 14.984375 27.296875 \r\nQ 14.984375 17.484375 19.15625 11.84375 \r\nQ 23.34375 6.203125 30.609375 6.203125 \r\nQ 37.796875 6.203125 41.984375 11.859375 \r\nQ 46.1875 17.53125 46.1875 27.296875 \r\nQ 46.1875 37.015625 41.984375 42.703125 \r\nQ 37.796875 48.390625 30.609375 48.390625 \r\nz\r\nM 30.609375 56 \r\nQ 42.328125 56 49.015625 48.375 \r\nQ 55.71875 40.765625 55.71875 27.296875 \r\nQ 55.71875 13.875 49.015625 6.21875 \r\nQ 42.328125 -1.421875 30.609375 -1.421875 \r\nQ 18.84375 -1.421875 12.171875 6.21875 \r\nQ 5.515625 13.875 5.515625 27.296875 \r\nQ 5.515625 40.765625 12.171875 48.375 \r\nQ 18.84375 56 30.609375 56 \r\nz\r\n\" id=\"DejaVuSans-111\"/>\r\n     <path d=\"M 32.171875 -5.078125 \r\nQ 28.375 -14.84375 24.75 -17.8125 \r\nQ 21.140625 -20.796875 15.09375 -20.796875 \r\nL 7.90625 -20.796875 \r\nL 7.90625 -13.28125 \r\nL 13.1875 -13.28125 \r\nQ 16.890625 -13.28125 18.9375 -11.515625 \r\nQ 21 -9.765625 23.484375 -3.21875 \r\nL 25.09375 0.875 \r\nL 2.984375 54.6875 \r\nL 12.5 54.6875 \r\nL 29.59375 11.921875 \r\nL 46.6875 54.6875 \r\nL 56.203125 54.6875 \r\nz\r\n\" id=\"DejaVuSans-121\"/>\r\n     <path id=\"DejaVuSans-32\"/>\r\n     <path d=\"M 44.390625 34.1875 \r\nQ 47.5625 33.109375 50.5625 29.59375 \r\nQ 53.5625 26.078125 56.59375 19.921875 \r\nL 66.609375 0 \r\nL 56 0 \r\nL 46.6875 18.703125 \r\nQ 43.0625 26.03125 39.671875 28.421875 \r\nQ 36.28125 30.8125 30.421875 30.8125 \r\nL 19.671875 30.8125 \r\nL 19.671875 0 \r\nL 9.8125 0 \r\nL 9.8125 72.90625 \r\nL 32.078125 72.90625 \r\nQ 44.578125 72.90625 50.734375 67.671875 \r\nQ 56.890625 62.453125 56.890625 51.90625 \r\nQ 56.890625 45.015625 53.6875 40.46875 \r\nQ 50.484375 35.9375 44.390625 34.1875 \r\nz\r\nM 19.671875 64.796875 \r\nL 19.671875 38.921875 \r\nL 32.078125 38.921875 \r\nQ 39.203125 38.921875 42.84375 42.21875 \r\nQ 46.484375 45.515625 46.484375 51.90625 \r\nQ 46.484375 58.296875 42.84375 61.546875 \r\nQ 39.203125 64.796875 32.078125 64.796875 \r\nz\r\n\" id=\"DejaVuSans-82\"/>\r\n     <path d=\"M 45.40625 27.984375 \r\nQ 45.40625 37.75 41.375 43.109375 \r\nQ 37.359375 48.484375 30.078125 48.484375 \r\nQ 22.859375 48.484375 18.828125 43.109375 \r\nQ 14.796875 37.75 14.796875 27.984375 \r\nQ 14.796875 18.265625 18.828125 12.890625 \r\nQ 22.859375 7.515625 30.078125 7.515625 \r\nQ 37.359375 7.515625 41.375 12.890625 \r\nQ 45.40625 18.265625 45.40625 27.984375 \r\nz\r\nM 54.390625 6.78125 \r\nQ 54.390625 -7.171875 48.1875 -13.984375 \r\nQ 42 -20.796875 29.203125 -20.796875 \r\nQ 24.46875 -20.796875 20.265625 -20.09375 \r\nQ 16.0625 -19.390625 12.109375 -17.921875 \r\nL 12.109375 -9.1875 \r\nQ 16.0625 -11.328125 19.921875 -12.34375 \r\nQ 23.78125 -13.375 27.78125 -13.375 \r\nQ 36.625 -13.375 41.015625 -8.765625 \r\nQ 45.40625 -4.15625 45.40625 5.171875 \r\nL 45.40625 9.625 \r\nQ 42.625 4.78125 38.28125 2.390625 \r\nQ 33.9375 0 27.875 0 \r\nQ 17.828125 0 11.671875 7.65625 \r\nQ 5.515625 15.328125 5.515625 27.984375 \r\nQ 5.515625 40.671875 11.671875 48.328125 \r\nQ 17.828125 56 27.875 56 \r\nQ 33.9375 56 38.28125 53.609375 \r\nQ 42.625 51.21875 45.40625 46.390625 \r\nL 45.40625 54.6875 \r\nL 54.390625 54.6875 \r\nz\r\n\" id=\"DejaVuSans-103\"/>\r\n     <path d=\"M 8.5 21.578125 \r\nL 8.5 54.6875 \r\nL 17.484375 54.6875 \r\nL 17.484375 21.921875 \r\nQ 17.484375 14.15625 20.5 10.265625 \r\nQ 23.53125 6.390625 29.59375 6.390625 \r\nQ 36.859375 6.390625 41.078125 11.03125 \r\nQ 45.3125 15.671875 45.3125 23.6875 \r\nL 45.3125 54.6875 \r\nL 54.296875 54.6875 \r\nL 54.296875 0 \r\nL 45.3125 0 \r\nL 45.3125 8.40625 \r\nQ 42.046875 3.421875 37.71875 1 \r\nQ 33.40625 -1.421875 27.6875 -1.421875 \r\nQ 18.265625 -1.421875 13.375 4.4375 \r\nQ 8.5 10.296875 8.5 21.578125 \r\nz\r\nM 31.109375 56 \r\nz\r\n\" id=\"DejaVuSans-117\"/>\r\n     <path d=\"M 19.671875 64.796875 \r\nL 19.671875 8.109375 \r\nL 31.59375 8.109375 \r\nQ 46.6875 8.109375 53.6875 14.9375 \r\nQ 60.6875 21.78125 60.6875 36.53125 \r\nQ 60.6875 51.171875 53.6875 57.984375 \r\nQ 46.6875 64.796875 31.59375 64.796875 \r\nz\r\nM 9.8125 72.90625 \r\nL 30.078125 72.90625 \r\nQ 51.265625 72.90625 61.171875 64.09375 \r\nQ 71.09375 55.28125 71.09375 36.53125 \r\nQ 71.09375 17.671875 61.125 8.828125 \r\nQ 51.171875 0 30.078125 0 \r\nL 9.8125 0 \r\nz\r\n\" id=\"DejaVuSans-68\"/>\r\n     <path d=\"M 37.109375 75.984375 \r\nL 37.109375 68.5 \r\nL 28.515625 68.5 \r\nQ 23.6875 68.5 21.796875 66.546875 \r\nQ 19.921875 64.59375 19.921875 59.515625 \r\nL 19.921875 54.6875 \r\nL 34.71875 54.6875 \r\nL 34.71875 47.703125 \r\nL 19.921875 47.703125 \r\nL 19.921875 0 \r\nL 10.890625 0 \r\nL 10.890625 47.703125 \r\nL 2.296875 47.703125 \r\nL 2.296875 54.6875 \r\nL 10.890625 54.6875 \r\nL 10.890625 58.5 \r\nQ 10.890625 67.625 15.140625 71.796875 \r\nQ 19.390625 75.984375 28.609375 75.984375 \r\nz\r\n\" id=\"DejaVuSans-102\"/>\r\n     <path d=\"M 9.8125 72.90625 \r\nL 19.671875 72.90625 \r\nL 19.671875 8.296875 \r\nL 55.171875 8.296875 \r\nL 55.171875 0 \r\nL 9.8125 0 \r\nz\r\n\" id=\"DejaVuSans-76\"/>\r\n    </defs>\r\n    <g transform=\"translate(7.2 16.318125)scale(0.12 -0.12)\">\r\n     <use xlink:href=\"#DejaVuSans-69\"/>\r\n     <use x=\"63.183594\" xlink:href=\"#DejaVuSans-109\"/>\r\n     <use x=\"160.595703\" xlink:href=\"#DejaVuSans-112\"/>\r\n     <use x=\"224.072266\" xlink:href=\"#DejaVuSans-108\"/>\r\n     <use x=\"251.855469\" xlink:href=\"#DejaVuSans-111\"/>\r\n     <use x=\"313.037109\" xlink:href=\"#DejaVuSans-121\"/>\r\n     <use x=\"372.216797\" xlink:href=\"#DejaVuSans-101\"/>\r\n     <use x=\"433.740234\" xlink:href=\"#DejaVuSans-101\"/>\r\n     <use x=\"495.263672\" xlink:href=\"#DejaVuSans-115\"/>\r\n     <use x=\"547.363281\" xlink:href=\"#DejaVuSans-32\"/>\r\n     <use x=\"579.150391\" xlink:href=\"#DejaVuSans-82\"/>\r\n     <use x=\"648.570312\" xlink:href=\"#DejaVuSans-101\"/>\r\n     <use x=\"710.09375\" xlink:href=\"#DejaVuSans-115\"/>\r\n     <use x=\"762.193359\" xlink:href=\"#DejaVuSans-105\"/>\r\n     <use x=\"789.976562\" xlink:href=\"#DejaVuSans-103\"/>\r\n     <use x=\"853.453125\" xlink:href=\"#DejaVuSans-110\"/>\r\n     <use x=\"916.832031\" xlink:href=\"#DejaVuSans-105\"/>\r\n     <use x=\"944.615234\" xlink:href=\"#DejaVuSans-110\"/>\r\n     <use x=\"1007.994141\" xlink:href=\"#DejaVuSans-103\"/>\r\n     <use x=\"1071.470703\" xlink:href=\"#DejaVuSans-32\"/>\r\n     <use x=\"1103.257812\" xlink:href=\"#DejaVuSans-100\"/>\r\n     <use x=\"1166.734375\" xlink:href=\"#DejaVuSans-117\"/>\r\n     <use x=\"1230.113281\" xlink:href=\"#DejaVuSans-101\"/>\r\n     <use x=\"1291.636719\" xlink:href=\"#DejaVuSans-32\"/>\r\n     <use x=\"1323.423828\" xlink:href=\"#DejaVuSans-116\"/>\r\n     <use x=\"1362.632812\" xlink:href=\"#DejaVuSans-111\"/>\r\n     <use x=\"1423.814453\" xlink:href=\"#DejaVuSans-32\"/>\r\n     <use x=\"1455.601562\" xlink:href=\"#DejaVuSans-68\"/>\r\n     <use x=\"1532.603516\" xlink:href=\"#DejaVuSans-105\"/>\r\n     <use x=\"1560.386719\" xlink:href=\"#DejaVuSans-115\"/>\r\n     <use x=\"1612.486328\" xlink:href=\"#DejaVuSans-115\"/>\r\n     <use x=\"1664.585938\" xlink:href=\"#DejaVuSans-97\"/>\r\n     <use x=\"1725.865234\" xlink:href=\"#DejaVuSans-116\"/>\r\n     <use x=\"1765.074219\" xlink:href=\"#DejaVuSans-105\"/>\r\n     <use x=\"1792.857422\" xlink:href=\"#DejaVuSans-115\"/>\r\n     <use x=\"1844.957031\" xlink:href=\"#DejaVuSans-102\"/>\r\n     <use x=\"1880.162109\" xlink:href=\"#DejaVuSans-97\"/>\r\n     <use x=\"1941.441406\" xlink:href=\"#DejaVuSans-99\"/>\r\n     <use x=\"1996.421875\" xlink:href=\"#DejaVuSans-105\"/>\r\n     <use x=\"2024.205078\" xlink:href=\"#DejaVuSans-116\"/>\r\n     <use x=\"2063.414062\" xlink:href=\"#DejaVuSans-111\"/>\r\n     <use x=\"2124.595703\" xlink:href=\"#DejaVuSans-110\"/>\r\n     <use x=\"2187.974609\" xlink:href=\"#DejaVuSans-32\"/>\r\n     <use x=\"2219.761719\" xlink:href=\"#DejaVuSans-98\"/>\r\n     <use x=\"2283.238281\" xlink:href=\"#DejaVuSans-97\"/>\r\n     <use x=\"2344.517578\" xlink:href=\"#DejaVuSans-115\"/>\r\n     <use x=\"2396.617188\" xlink:href=\"#DejaVuSans-101\"/>\r\n     <use x=\"2458.140625\" xlink:href=\"#DejaVuSans-100\"/>\r\n     <use x=\"2521.617188\" xlink:href=\"#DejaVuSans-32\"/>\r\n     <use x=\"2553.404297\" xlink:href=\"#DejaVuSans-111\"/>\r\n     <use x=\"2614.585938\" xlink:href=\"#DejaVuSans-110\"/>\r\n     <use x=\"2677.964844\" xlink:href=\"#DejaVuSans-32\"/>\r\n     <use x=\"2709.751953\" xlink:href=\"#DejaVuSans-69\"/>\r\n     <use x=\"2772.935547\" xlink:href=\"#DejaVuSans-120\"/>\r\n     <use x=\"2832.115234\" xlink:href=\"#DejaVuSans-112\"/>\r\n     <use x=\"2895.591797\" xlink:href=\"#DejaVuSans-101\"/>\r\n     <use x=\"2957.115234\" xlink:href=\"#DejaVuSans-114\"/>\r\n     <use x=\"2998.228516\" xlink:href=\"#DejaVuSans-105\"/>\r\n     <use x=\"3026.011719\" xlink:href=\"#DejaVuSans-101\"/>\r\n     <use x=\"3087.535156\" xlink:href=\"#DejaVuSans-110\"/>\r\n     <use x=\"3150.914062\" xlink:href=\"#DejaVuSans-99\"/>\r\n     <use x=\"3205.894531\" xlink:href=\"#DejaVuSans-101\"/>\r\n     <use x=\"3267.417969\" xlink:href=\"#DejaVuSans-32\"/>\r\n     <use x=\"3299.205078\" xlink:href=\"#DejaVuSans-76\"/>\r\n     <use x=\"3354.902344\" xlink:href=\"#DejaVuSans-101\"/>\r\n     <use x=\"3416.425781\" xlink:href=\"#DejaVuSans-118\"/>\r\n     <use x=\"3475.605469\" xlink:href=\"#DejaVuSans-101\"/>\r\n     <use x=\"3537.128906\" xlink:href=\"#DejaVuSans-108\"/>\r\n    </g>\r\n   </g>\r\n  </g>\r\n </g>\r\n <defs>\r\n  <clipPath id=\"p29597eafe4\">\r\n   <rect height=\"217.44\" width=\"334.8\" x=\"53.698125\" y=\"22.318125\"/>\r\n  </clipPath>\r\n </defs>\r\n</svg>\r\n",
      "image/png": "[encoded data removed]"
     },
     "metadata": {
      "needs_background": "light"
     }
    }
   ],
   "source": [
    "service_cat_pv = combined.pivot_table(index='service_cat', values='dissatisfied')\n",
    "service_cat_pv.plot(kind='bar', title='Employees Resigning due to Dissatisfaciton based on Experience Level',legend=False)"
   ]
  },
  {
   "cell_type": "markdown",
   "metadata": {},
   "source": [
    "# Conclusion\n",
    "From the plot above, it can be seen that the majority of employees who have resigned due to some sort of dissatisfaction appears to be of the top two experience level categories. This would suggest that the longer an employee works for the institute, the more likely their resignation reason is to be of some sort of dissatisfaction. Furthermore, it appears as though approximately 30% of less experienced employees (in the \"experienced\" and \"new\") categories, are resigning due to some sort of dissatisfaction. This may suggest that a more significant reason for new employees to resign is as a result of some external factor."
   ]
  },
  {
   "cell_type": "code",
   "execution_count": null,
   "metadata": {},
   "outputs": [],
   "source": []
  }
 ],
 "metadata": {
  "kernelspec": {
   "display_name": "Python 3.7.6 64-bit ('base': conda)",
   "language": "python",
   "name": "python37664bitbaseconda7c59de5139d645a5be2f634a9f5a86d8"
  },
  "language_info": {
   "codemirror_mode": {
    "name": "ipython",
    "version": 3
   },
   "file_extension": ".py",
   "mimetype": "text/x-python",
   "name": "python",
   "nbconvert_exporter": "python",
   "pygments_lexer": "ipython3",
   "version": "3.7.6-final"
  }
 },
 "nbformat": 4,
 "nbformat_minor": 2
}