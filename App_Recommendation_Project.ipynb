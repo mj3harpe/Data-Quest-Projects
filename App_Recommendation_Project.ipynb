{
 "cells": [
  {
   "cell_type": "markdown",
   "metadata": {},
   "source": [
    "# Profitable Mobile App Analysis\n",
    "\n",
    "## Project Purpose:\n",
    "The purpose of this project is to provide insight as to which types of apps that are free to download and install are the most popular.\n",
    "\n",
    "## Personal Objectives:\n",
    "Open completing this project, I hope to solidfy key concepts in Python programming as well as provide a real life application of data science and analytics from a real data set."
   ]
  },
  {
   "cell_type": "code",
   "execution_count": 1,
   "metadata": {
    "collapsed": true
   },
   "outputs": [],
   "source": [
    "from csv import reader\n",
    "\n",
    "### The Google Play data set ###\n",
    "opened_file = open('googleplaystore.csv')\n",
    "read_file = reader(opened_file)\n",
    "android = list(read_file)\n",
    "android_header = android[0]\n",
    "android = android[1:]\n",
    "\n",
    "### The App Store data set ###\n",
    "opened_file = open('AppleStore.csv')\n",
    "read_file = reader(opened_file)\n",
    "ios = list(read_file)\n",
    "ios_header = ios[0]\n",
    "ios = ios[1:]\n"
   ]
  },
  {
   "cell_type": "code",
   "execution_count": 2,
   "metadata": {
    "collapsed": false,
    "scrolled": false
   },
   "outputs": [
    {
     "name": "stdout",
     "output_type": "stream",
     "text": [
      "['id', 'track_name', 'size_bytes', 'currency', 'price', 'rating_count_tot', 'rating_count_ver', 'user_rating', 'user_rating_ver', 'ver', 'cont_rating', 'prime_genre', 'sup_devices.num', 'ipadSc_urls.num', 'lang.num', 'vpp_lic']\n",
      "\n",
      "\n",
      "['284882215', 'Facebook', '389879808', 'USD', '0.0', '2974676', '212', '3.5', '3.5', '95.0', '4+', 'Social Networking', '37', '1', '29', '1']\n",
      "\n",
      "\n",
      "['389801252', 'Instagram', '113954816', 'USD', '0.0', '2161558', '1289', '4.5', '4.0', '10.23', '12+', 'Photo & Video', '37', '0', '29', '1']\n",
      "\n",
      "\n",
      "['529479190', 'Clash of Clans', '116476928', 'USD', '0.0', '2130805', '579', '4.5', '4.5', '9.24.12', '9+', 'Games', '38', '5', '18', '1']\n",
      "\n",
      "\n",
      "Number of rows: 7197\n",
      "Number of columns: 16\n",
      "['App', 'Category', 'Rating', 'Reviews', 'Size', 'Installs', 'Type', 'Price', 'Content Rating', 'Genres', 'Last Updated', 'Current Ver', 'Android Ver']\n",
      "\n",
      "\n",
      "['Photo Editor & Candy Camera & Grid & ScrapBook', 'ART_AND_DESIGN', '4.1', '159', '19M', '10,000+', 'Free', '0', 'Everyone', 'Art & Design', 'January 7, 2018', '1.0.0', '4.0.3 and up']\n",
      "\n",
      "\n",
      "['Coloring book moana', 'ART_AND_DESIGN', '3.9', '967', '14M', '500,000+', 'Free', '0', 'Everyone', 'Art & Design;Pretend Play', 'January 15, 2018', '2.0.0', '4.0.3 and up']\n",
      "\n",
      "\n",
      "['U Launcher Lite – FREE Live Cool Themes, Hide Apps', 'ART_AND_DESIGN', '4.7', '87510', '8.7M', '5,000,000+', 'Free', '0', 'Everyone', 'Art & Design', 'August 1, 2018', '1.2.4', '4.0.3 and up']\n",
      "\n",
      "\n",
      "Number of rows: 10841\n",
      "Number of columns: 13\n"
     ]
    }
   ],
   "source": [
    "def explore_data(dataset, start, end, rows_and_columns=False):\n",
    "    dataset_slice = dataset[start:end]    \n",
    "    for row in dataset_slice:\n",
    "        print(row)\n",
    "        print('\\n') # adds a new (empty) line after each row\n",
    "\n",
    "    if rows_and_columns:\n",
    "        print('Number of rows:', len(dataset))\n",
    "        print('Number of columns:', len(dataset[0]))\n",
    "        \n",
    "print (ios_header)\n",
    "print ('\\n')\n",
    "explore_data(ios, 0 ,3, True)\n",
    "\n",
    "print (android_header)\n",
    "print ('\\n')\n",
    "explore_data(android, 0 ,3, True)"
   ]
  },
  {
   "cell_type": "markdown",
   "metadata": {},
   "source": [
    "From the output above, useful columns that could help with the analysis of profitable free apps are:\n",
    "\n",
    "`Apple Store`\n",
    "- track_name (index 1), price (index 4), rating_count_tot (index 5), user_rating (index 7), cont_rating (index 10), prime_genre (index 11), lang.num (index 14)\n",
    "\n",
    "`Google Play Store`\n",
    "- App (index 0), Category (index 1), Rating (index 2), Installs (index 5), Type (index 6), Price (index 7), Content Rating (index 8), Genres (index 9)"
   ]
  },
  {
   "cell_type": "code",
   "execution_count": 3,
   "metadata": {
    "collapsed": false
   },
   "outputs": [
    {
     "name": "stdout",
     "output_type": "stream",
     "text": [
      "['Life Made WI-Fi Touchscreen Photo Frame', '1.9', '19', '3.0M', '1,000+', 'Free', '0', 'Everyone', '', 'February 11, 2018', '1.0.19', '4.0 and up']\n"
     ]
    }
   ],
   "source": [
    "print (android[10472])"
   ]
  },
  {
   "cell_type": "markdown",
   "metadata": {},
   "source": [
    "## Cleaning Bad Entries\n",
    "\n",
    "- From reading the dicussion section from the google play store, it was deduced that there is an error in the data.\n",
    "- the \"Category\" entry is missing for index 10472 (or 10473 if the header is kept in the file)\n",
    "\n",
    "- The code row is removed using `del android[10472]`. The code is not kept for the possibility it could be ran again, deleting a good data entry."
   ]
  },
  {
   "cell_type": "code",
   "execution_count": 4,
   "metadata": {
    "collapsed": false
   },
   "outputs": [
    {
     "name": "stdout",
     "output_type": "stream",
     "text": [
      "['osmino Wi-Fi: free WiFi', 'TOOLS', '4.2', '134203', '4.1M', '10,000,000+', 'Free', '0', 'Everyone', 'Tools', 'August 7, 2018', '6.06.14', '4.4 and up']\n"
     ]
    }
   ],
   "source": [
    "del android[10472]\n",
    "print (android[10472])"
   ]
  },
  {
   "cell_type": "markdown",
   "metadata": {},
   "source": [
    "## Duplicate Entries\n",
    "- We will now check for duplicates\n",
    "- duplicate entries must be deleted as to not skew the end result.\n",
    "\n",
    "The Code Below:\n",
    "- creates new list to store unique and duplicate apps\n",
    "- iterates through the data sets. If the name of the app on the current iteration is already an entry in the `unique_apps` list, the name is `appended` to the `duplicate_apps` list.\n",
    "- If the current iteration app name `is not` in the `unique_data` list than it is added to the list"
   ]
  },
  {
   "cell_type": "code",
   "execution_count": 5,
   "metadata": {
    "collapsed": false
   },
   "outputs": [
    {
     "name": "stdout",
     "output_type": "stream",
     "text": [
      "Number of Duplicate IOS Apps:  2\n",
      "Repeated IOS Apps:  ['Mannequin Challenge', 'VR Roller Coaster']\n",
      "\n",
      "\n",
      "Number of Duplicate ANDROID Apps:  1181\n",
      "Some Repeated Android Apps:  ['Quick PDF Scanner + OCR FREE', 'Box', 'Google My Business', 'ZOOM Cloud Meetings', 'join.me - Simple Meetings', 'Box', 'Zenefits', 'Google Ads', 'Google My Business', 'Slack']\n"
     ]
    }
   ],
   "source": [
    "unique_ios_apps = []\n",
    "duplicate_ios_apps = []\n",
    "unique_android_apps = []\n",
    "duplicate_android_apps = []\n",
    "\n",
    "for row in ios:\n",
    "    name = row[1]\n",
    "    if name in unique_ios_apps: # checks app store App Name\n",
    "        duplicate_ios_apps.append(name)\n",
    "    else:\n",
    "        unique_ios_apps.append(name)\n",
    "\n",
    "for row in android:\n",
    "    name = row[0]\n",
    "    if name in unique_android_apps: # checks Google Store App Name\n",
    "        duplicate_android_apps.append(name)\n",
    "    else:\n",
    "        unique_android_apps.append(name)\n",
    "        \n",
    "print ('Number of Duplicate IOS Apps: ', len(duplicate_ios_apps))\n",
    "print ('Repeated IOS Apps: ', duplicate_ios_apps)\n",
    "print ('\\n')\n",
    "print ('Number of Duplicate ANDROID Apps: ', len(duplicate_android_apps))\n",
    "print ('Some Repeated Android Apps: ', duplicate_android_apps[:10])\n",
    "        "
   ]
  },
  {
   "cell_type": "markdown",
   "metadata": {},
   "source": [
    "## Method For Deleting Duplicate Apps\n",
    "`AppleStore`\n",
    "- for this data set, we will use the `rating_count_tot` column (index 5) to determine which of the duplicate entries has the most total ratings. Only the entry with the largest quantity of ratings will be kept.\n",
    "\n",
    "`Google Play Store`\n",
    "- A similar approach will be used, but with the google play store column `Reviews` column (index 4)\n",
    "\n",
    "The Code Below:\n",
    "- creates new `dictionary` data structures for ios and android apps to store the app name and it's associated highest number of ratings.\n",
    "- Iterates through the data sets.\n",
    "- If the current iteration app name is not a `key` in its `dictionary` than it is added to the `dictionary` with the current iteration value for `ratings_count` as its associated value.\n",
    "- If the current iteration app name is a `key` in its `dictionary`, and the current iteration `ratings_count` value is greater than the existings associated value to the key, than the key's associated value is replaced with the higher value of `ratings_count`\n"
   ]
  },
  {
   "cell_type": "code",
   "execution_count": 6,
   "metadata": {
    "collapsed": false
   },
   "outputs": [],
   "source": [
    "ios_review_max = {}\n",
    "android_review_max = {}\n",
    "\n",
    "for row in ios:\n",
    "    name = row[1]\n",
    "    ratings_count = float(row[5])\n",
    "    \n",
    "    if name in ios_review_max and ios_review_max[name] < ratings_count:\n",
    "        ios_review_max[name] = ratings_count  \n",
    "        \n",
    "    elif name not in ios_review_max:\n",
    "        ios_review_max[name] = ratings_count\n",
    "        \n",
    "for row in android:\n",
    "    name = row[0]\n",
    "    ratings_count = float(row[3])\n",
    "    \n",
    "    if name in android_review_max and android_review_max[name] < ratings_count:\n",
    "        android_review_max[name] = ratings_count\n",
    "        \n",
    "    elif name not in android_review_max:\n",
    "        android_review_max[name] = ratings_count"
   ]
  },
  {
   "cell_type": "code",
   "execution_count": 7,
   "metadata": {
    "collapsed": false
   },
   "outputs": [
    {
     "name": "stdout",
     "output_type": "stream",
     "text": [
      "Exptected Length of IOS data:  7195\n",
      "Actual Length of Android Data:  7195\n",
      "\n",
      "\n",
      "Exptected Length of Android Data:  9659\n",
      "Actual Length of Android Data:  9659\n"
     ]
    }
   ],
   "source": [
    "print ('Exptected Length of IOS data: ', len(ios) - 2)\n",
    "print ('Actual Length of Android Data: ', len(ios_review_max))\n",
    "print ('\\n')\n",
    "print ('Exptected Length of Android Data: ', len(android) - 1181)\n",
    "print ('Actual Length of Android Data: ', len(android_review_max))"
   ]
  },
  {
   "cell_type": "markdown",
   "metadata": {},
   "source": [
    "## Algorithm to Remove Duplicate Entries\n",
    "\n",
    "The code below:\n",
    "- creates new lists to store the final data sets. (`_clean`)\n",
    "- creates new lists to keep track of which have already been added (`_aleady_added`)\n",
    "- Iterates through the data set\n",
    "- if the `app name` on the current iteration has not already been added to the `_clean` list AND the current iteration `ratings_count` value is equal to the value stored in the dictionary from the previous step, the entire row is added to the `_clean` list."
   ]
  },
  {
   "cell_type": "code",
   "execution_count": 8,
   "metadata": {
    "collapsed": false
   },
   "outputs": [
    {
     "name": "stdout",
     "output_type": "stream",
     "text": [
      "Length of Cleaned IOS Data:  7195\n",
      "Length of Cleaned ANROID Data:  9659\n"
     ]
    }
   ],
   "source": [
    "ios_clean = []\n",
    "ios_already_added = []\n",
    "android_clean = []\n",
    "android_already_added = []\n",
    "\n",
    "for row in ios:\n",
    "    name = row[1]\n",
    "    ratings_count = float(row[5])\n",
    "    \n",
    "    if (name not in ios_already_added) and (ios_review_max[name] == ratings_count):\n",
    "        ios_clean.append(row)\n",
    "        ios_already_added.append(name)\n",
    "    \n",
    "for row in android:\n",
    "    name = row[0]\n",
    "    ratings_count = float(row[3])\n",
    "    \n",
    "    if (name not in android_already_added) and (android_review_max[name] == ratings_count):\n",
    "        android_clean.append(row)\n",
    "        android_already_added.append(name)\n",
    "        \n",
    "print ('Length of Cleaned IOS Data: ', len(ios_clean))\n",
    "print ('Length of Cleaned ANROID Data: ', len(android_clean))\n",
    "        "
   ]
  },
  {
   "cell_type": "markdown",
   "metadata": {},
   "source": [
    "## Removing Non-English Directed Apps\n",
    "\n",
    "To do this, we will interate through each data set, looping through each character of the app name and check its associated ASCII value. \n",
    "- If a character has and ASCII value in the range [0,127] it is likely in the english language. All other characters will be flagged and the current iteration app will not be added to a new list (`_clean_english`) \n",
    "- the built-in funtion `ord()` will be used\n",
    "- A counter is used to determine how many characters in the app name is out of the english language. If that counter reaches 3, the app is said to be non-english directed."
   ]
  },
  {
   "cell_type": "code",
   "execution_count": 9,
   "metadata": {
    "collapsed": false
   },
   "outputs": [],
   "source": [
    "def check_english(appname):\n",
    "    counter = 0\n",
    "    \n",
    "    for character in appname:\n",
    "        if (ord(character) > 127):\n",
    "            counter +=1\n",
    "            \n",
    "    if (counter >= 3):\n",
    "         return False\n",
    "    else:      \n",
    "        return True"
   ]
  },
  {
   "cell_type": "code",
   "execution_count": 10,
   "metadata": {
    "collapsed": false,
    "scrolled": true
   },
   "outputs": [
    {
     "name": "stdout",
     "output_type": "stream",
     "text": [
      "True\n",
      "True\n"
     ]
    }
   ],
   "source": [
    "print (check_english('Instagram'))\n",
    "print (check_english('Docs To Go™ Free Office Suite'))"
   ]
  },
  {
   "cell_type": "markdown",
   "metadata": {},
   "source": [
    "The Code Below:\n",
    "- creates new lists for android and ios apps that have been cleaned of bad data, repeated entries and non-english apps."
   ]
  },
  {
   "cell_type": "code",
   "execution_count": 11,
   "metadata": {
    "collapsed": false,
    "scrolled": true
   },
   "outputs": [
    {
     "name": "stdout",
     "output_type": "stream",
     "text": [
      "Length of Cleaned and English IOS Data:  6153\n",
      "Length of Cleaned and Enlish ANDROID Data:  9597\n"
     ]
    }
   ],
   "source": [
    "ios_clean_english = []\n",
    "android_clean_english = []\n",
    "\n",
    "for row in ios_clean:\n",
    "    name = row[1]\n",
    "    \n",
    "    if (check_english(name) == True):\n",
    "        ios_clean_english.append(row)\n",
    "        \n",
    "for row in android_clean:\n",
    "    name = row[0]\n",
    "    \n",
    "    if (check_english(name) == True):\n",
    "        android_clean_english.append(row)\n",
    "        \n",
    "print ('Length of Cleaned and English IOS Data: ', len(ios_clean_english))\n",
    "print ('Length of Cleaned and Enlish ANDROID Data: ', len(android_clean_english))"
   ]
  },
  {
   "cell_type": "markdown",
   "metadata": {},
   "source": [
    "## Isolating Free Apps\n",
    "- Based on the problem description, we wish to analyse free apps.\n",
    "- The code below creates two final lists for each the apple store and google play store.\n",
    "- The lists store `cleaned` data, rid of bad and duplicate entries as well as non-enligh apps as well as paid apps.\n",
    "\n",
    "The code below:\n",
    "- Iterates through the most recently cleaned data sets\n",
    "- checks the price column of each. If price is free than the row is `appended` to the final list."
   ]
  },
  {
   "cell_type": "code",
   "execution_count": 12,
   "metadata": {
    "collapsed": false
   },
   "outputs": [
    {
     "name": "stdout",
     "output_type": "stream",
     "text": [
      "Length of Completely Cleaned IOS data:  3201\n",
      "Length of Completely Cleanded Android data:  8848\n"
     ]
    }
   ],
   "source": [
    "ios_cleaned_free = []\n",
    "android_cleaned_free = []\n",
    "\n",
    "for row in ios_clean_english:\n",
    "    price = row[4]\n",
    "    \n",
    "    if (price == '0.0'):\n",
    "        ios_cleaned_free.append(row)\n",
    "        \n",
    "for row in android_clean_english:\n",
    "    price = row[7]\n",
    "    \n",
    "    if (price == '0'):\n",
    "        android_cleaned_free.append(row)\n",
    "        \n",
    "print ('Length of Completely Cleaned IOS data: ', len(ios_cleaned_free))\n",
    "print ('Length of Completely Cleanded Android data: ', len(android_cleaned_free))\n",
    "        "
   ]
  },
  {
   "cell_type": "markdown",
   "metadata": {},
   "source": [
    "## Begin Analysis\n",
    "- Goal is to find an app profile that  fits both the Apple App Store and Google Play store to maximize volume of potential users.\n",
    "\n",
    "- Validation Strategy: (1) build minimal version of app for android and add it to google play. (2) If good response from user, app is further developed. (3) If app is profitable after six months, an IOS version is made and added to the Apple App Store.\n",
    "\n",
    "The Code Below:\n",
    "- function named `freq_table` that takes in a data set (expected to be a list of lists) and a column index\n",
    "- The function iterates through the data set and sets the desired key to `var` \"target\"\n",
    "- Generates a `frequency table` for the column index of choosing"
   ]
  },
  {
   "cell_type": "code",
   "execution_count": 13,
   "metadata": {
    "collapsed": true
   },
   "outputs": [],
   "source": [
    "def freq_table(dataset, index):\n",
    "    ft = {}\n",
    "    ft_percent = {}\n",
    "    total = 0\n",
    "    \n",
    "    for row in dataset:\n",
    "        total+=1\n",
    "        target = row[index]\n",
    "        \n",
    "        if target in ft:\n",
    "            ft[target] += 1\n",
    "        else:\n",
    "            ft[target] = 1\n",
    "            \n",
    "    for item in ft:\n",
    "        ft_percent[item] = (ft[item] / total) * 100\n",
    "        \n",
    "    return ft_percent\n"
   ]
  },
  {
   "cell_type": "code",
   "execution_count": 14,
   "metadata": {
    "collapsed": false
   },
   "outputs": [
    {
     "name": "stdout",
     "output_type": "stream",
     "text": [
      "{'Catalogs': 0.12496094970321774, 'Business': 0.5310840362386754, 'Lifestyle': 1.5620118712902218, 'Music': 2.0618556701030926, 'Reference': 0.5310840362386754, 'Sports': 2.1555763823805063, 'Food & Drink': 0.8122461730709154, 'Productivity': 1.7494532958450486, 'Shopping': 2.592939706341768, 'Entertainment': 7.841299593876913, 'News': 1.3433302093095907, 'Photo & Video': 4.99843798812871, 'Medical': 0.18744142455482662, 'Social Networking': 3.3114651671352706, 'Games': 58.23180256169947, 'Utilities': 2.4679787566385505, 'Travel': 1.2496094970321776, 'Health & Fitness': 2.0306154326772883, 'Finance': 1.0934083099031553, 'Education': 3.6863480162449234, 'Book': 0.37488284910965325, 'Weather': 0.8747266479225243, 'Navigation': 0.18744142455482662}\n"
     ]
    }
   ],
   "source": [
    "print (freq_table(ios_cleaned_free, 11))"
   ]
  },
  {
   "cell_type": "markdown",
   "metadata": {},
   "source": [
    "## Display Ordered Frequency Tables\n",
    "\n",
    "The code below:\n",
    "- makes used of the `sorted` built in function\n",
    "- the `sorted` function does not work with dictionaries, though it does with tuples. A dictionary is essential a list of tuples.\n",
    "- a tuple variable is created (`tuple_value`) that has the first entry as the frequency table value, the first is the key. This tuple value is then `appended` to a list `table_display` to create a list of tuples.\n",
    "- the `sorted()` function is than used to display the data from highest to lowest values."
   ]
  },
  {
   "cell_type": "code",
   "execution_count": 15,
   "metadata": {
    "collapsed": true
   },
   "outputs": [],
   "source": [
    "def display_table(dataset, index):\n",
    "    table = freq_table(dataset, index)\n",
    "    table_display = []\n",
    "    \n",
    "    for item in table:\n",
    "        tuple_value = (table[item], item)\n",
    "        table_display.append(tuple_value)\n",
    "        \n",
    "    table_sorted = sorted(table_display, reverse = True)\n",
    "    \n",
    "    for entry in table_sorted:\n",
    "        print (entry[1], ':', entry[0])\n",
    "        "
   ]
  },
  {
   "cell_type": "code",
   "execution_count": 16,
   "metadata": {
    "collapsed": false
   },
   "outputs": [
    {
     "name": "stdout",
     "output_type": "stream",
     "text": [
      "IOS DATA:  \n",
      "\n",
      "Games : 58.23180256169947\n",
      "Entertainment : 7.841299593876913\n",
      "Photo & Video : 4.99843798812871\n",
      "Education : 3.6863480162449234\n",
      "Social Networking : 3.3114651671352706\n",
      "Shopping : 2.592939706341768\n",
      "Utilities : 2.4679787566385505\n",
      "Sports : 2.1555763823805063\n",
      "Music : 2.0618556701030926\n",
      "Health & Fitness : 2.0306154326772883\n",
      "Productivity : 1.7494532958450486\n",
      "Lifestyle : 1.5620118712902218\n",
      "News : 1.3433302093095907\n",
      "Travel : 1.2496094970321776\n",
      "Finance : 1.0934083099031553\n",
      "Weather : 0.8747266479225243\n",
      "Food & Drink : 0.8122461730709154\n",
      "Reference : 0.5310840362386754\n",
      "Business : 0.5310840362386754\n",
      "Book : 0.37488284910965325\n",
      "Navigation : 0.18744142455482662\n",
      "Medical : 0.18744142455482662\n",
      "Catalogs : 0.12496094970321774\n",
      "None\n",
      "\n",
      "\n",
      "Android Data Category Column:  \n",
      "\n",
      "FAMILY : 18.942133815551536\n",
      "GAME : 9.697106690777577\n",
      "TOOLS : 8.453887884267631\n",
      "BUSINESS : 4.599909584086799\n",
      "PRODUCTIVITY : 3.899186256781193\n",
      "LIFESTYLE : 3.887884267631103\n",
      "FINANCE : 3.7070524412296564\n",
      "MEDICAL : 3.5375226039783\n",
      "SPORTS : 3.390596745027125\n",
      "PERSONALIZATION : 3.322784810126582\n",
      "COMMUNICATION : 3.2323688969258586\n",
      "HEALTH_AND_FITNESS : 3.0854430379746836\n",
      "PHOTOGRAPHY : 2.949819168173599\n",
      "NEWS_AND_MAGAZINES : 2.802893309222423\n",
      "SOCIAL : 2.667269439421338\n",
      "TRAVEL_AND_LOCAL : 2.3395117540687163\n",
      "SHOPPING : 2.2490958408679926\n",
      "BOOKS_AND_REFERENCE : 2.1360759493670884\n",
      "DATING : 1.8648282097649187\n",
      "VIDEO_PLAYERS : 1.7970162748643763\n",
      "MAPS_AND_NAVIGATION : 1.3901446654611211\n",
      "FOOD_AND_DRINK : 1.2432188065099457\n",
      "EDUCATION : 1.164104882459313\n",
      "ENTERTAINMENT : 0.9606690777576853\n",
      "LIBRARIES_AND_DEMO : 0.9380650994575045\n",
      "AUTO_AND_VEHICLES : 0.9267631103074141\n",
      "HOUSE_AND_HOME : 0.8024412296564195\n",
      "WEATHER : 0.7911392405063291\n",
      "EVENTS : 0.7120253164556962\n",
      "PARENTING : 0.6555153707052441\n",
      "ART_AND_DESIGN : 0.6442133815551537\n",
      "COMICS : 0.6103074141048824\n",
      "BEAUTY : 0.599005424954792\n",
      "None\n"
     ]
    }
   ],
   "source": [
    "print ('IOS DATA: ', '\\n')\n",
    "print (display_table(ios_cleaned_free, 11))\n",
    "print ('\\n')\n",
    "print ('Android Data Category Column: ', '\\n')\n",
    "print (display_table(android_cleaned_free, 1))"
   ]
  },
  {
   "cell_type": "markdown",
   "metadata": {},
   "source": [
    "## Genre Analysis (AppStore):\n",
    "\n",
    "Apple AppStore:\n",
    "- free app types dominated by non-productive types of apps (Games, Social Media, Entertainment, etc.)\n",
    "- The above makes up 70% of free apps on the app store.\n",
    "\n",
    "Google Play:\n",
    "- free app types dominated by productive apps. (Family, Tools, Business etc)\n",
    "\n",
    "Conclusions:\n",
    "- The above data tells us the commonality of different app genres.\n",
    "- Need to Analyse which app genres are most frequently Installed to provide a better recommendation for an app profile"
   ]
  },
  {
   "cell_type": "code",
   "execution_count": 17,
   "metadata": {
    "collapsed": false
   },
   "outputs": [],
   "source": [
    "ios_genre_ft = freq_table(ios_cleaned_free, 11)\n",
    "android_genre_ft = freq_table(android_cleaned_free, 1)"
   ]
  },
  {
   "cell_type": "code",
   "execution_count": 18,
   "metadata": {
    "collapsed": false,
    "scrolled": true
   },
   "outputs": [
    {
     "name": "stdout",
     "output_type": "stream",
     "text": [
      "App Genre: Avg Num User Ratings\n",
      "Catalogs : 4004.0\n",
      "Business : 7491.117647058823\n",
      "Lifestyle : 16815.48\n",
      "Music : 57326.530303030304\n",
      "Reference : 79350.4705882353\n",
      "Sports : 23008.898550724636\n",
      "Food & Drink : 33333.92307692308\n",
      "Productivity : 21028.410714285714\n",
      "Shopping : 27230.734939759037\n",
      "Entertainment : 14195.358565737051\n",
      "News : 21248.023255813954\n",
      "Photo & Video : 28441.54375\n",
      "Medical : 612.0\n",
      "Social Networking : 71548.34905660378\n",
      "Games : 22910.83100858369\n",
      "Utilities : 19156.493670886077\n",
      "Travel : 28243.8\n",
      "Health & Fitness : 23298.015384615384\n",
      "Finance : 32367.02857142857\n",
      "Education : 7003.983050847458\n",
      "Book : 46384.916666666664\n",
      "Weather : 52279.892857142855\n",
      "Navigation : 86090.33333333333\n"
     ]
    }
   ],
   "source": [
    "print ('App Genre: Avg Num User Ratings') \n",
    "\n",
    "for genre in ios_genre_ft:\n",
    "    total = 0\n",
    "    len_genre = 0\n",
    "    \n",
    "    for item in ios_cleaned_free:\n",
    "        genre_app = item[11]\n",
    "        \n",
    "        \n",
    "        if (genre_app == genre):\n",
    "            num_ratings = float(item[5])\n",
    "            total += num_ratings\n",
    "            len_genre += 1\n",
    "            \n",
    "    avg_user_ratings = total / len_genre\n",
    "    print (genre, ':', avg_user_ratings)"
   ]
  },
  {
   "cell_type": "markdown",
   "metadata": {},
   "source": [
    "## Genre Analysis Continued\n",
    "\n",
    "- The table above describes the average number of user ratings for each genre type in the `ios_cleaned_free` data set.\n",
    "- It appears as though the app store is dominated by the `Navigation` genres for free apps. Although from the output below, this is monopolized by Waze and Google Maps\n",
    "- The next most popular app types are in genres such as `social networking` and `Reference` although this is also dominated by a key few apps in their categories. These would be tough, competitive markets to enter into."
   ]
  },
  {
   "cell_type": "code",
   "execution_count": 19,
   "metadata": {
    "collapsed": false,
    "scrolled": true
   },
   "outputs": [
    {
     "name": "stdout",
     "output_type": "stream",
     "text": [
      "Evernote - stay organized : 161065\n",
      "Gmail - email by Google: secure, fast & organized : 135962\n",
      "iTranslate - Language Translator & Dictionary : 123215\n",
      "Yahoo Mail - Keeps You Organized! : 113709\n",
      "Google Docs : 64259\n",
      "Google Drive - free online storage : 59255\n",
      "Dropbox : 49578\n",
      "Microsoft Word : 47999\n",
      "Microsoft OneNote : 39638\n",
      "Microsoft Outlook - email and calendar : 32807\n",
      "Hotspot Shield Free VPN Proxy & Wi-Fi Privacy : 32499\n",
      "Documents 6 - File manager, PDF reader and browser : 29110\n",
      "Google Sheets : 24602\n",
      "Microsoft Excel : 24430\n",
      "Inbox by Gmail : 21561\n",
      "T-Mobile : 19977\n",
      "Paper by FiftyThree - Sketch, Diagram, Take Notes : 18219\n",
      "MyScript Calculator - Handwriting calculator : 16555\n",
      "VPN Proxy Master - Unlimited WiFi security VPN : 13674\n",
      "Microsoft OneDrive – File & photo cloud storage : 12797\n",
      "Ever - Capture Your Memories : 12755\n",
      "Speak & Translate － Voice and Text Translator : 12062\n",
      "Tayasui Sketches : 11505\n",
      "Drawing Desk - Draw, Paint, Doodle & Sketch board : 11040\n",
      "Microsoft PowerPoint : 10939\n",
      "Email - Fast & Secure mail for Gmail iCloud Yahoo : 10778\n",
      "Google Slides : 9920\n",
      "HP All-in-One Printer Remote : 9819\n",
      "Google Calendar – Make the most of every day : 7656\n",
      "Verizon Cloud : 6482\n",
      "Free VPN HexaTech - Unlimited VPN Proxy for iPhone : 5934\n",
      "Productive habits & daily goals tracker : 4736\n",
      "Adobe Spark Video, Animated Videos in minutes : 4302\n",
      "Adobe Illustrator Draw : 3215\n",
      "Concepts - Sketch, Design, Illustrate : 3101\n",
      "Trello : 2793\n",
      "Adobe Spark Page — Create Stunning Web Pages : 2528\n",
      "Workflow: Powerful Automation Made Simple : 1498\n",
      "ATracker - Daily Task and Time Tracking : 1114\n",
      "Bear : 891\n",
      "Family Organizer - Calendar Planner : 828\n",
      "Fingerprint Login: PassKey Password & Apps Lock : 718\n",
      "360云盘 : 437\n",
      "Mail Master by NetEase : 361\n",
      "Content Transf : 299\n",
      "HOUND Voice Search & Assistant : 297\n",
      "AutoScout24 - mobile used & new car market : 220\n",
      "WEB.DE Mail : 168\n",
      "GMX Mail : 102\n",
      "MetaMoJi Note Lite : 93\n",
      "Infinite Painter : 65\n",
      "Jottit : 14\n",
      "Free QR Code Reader simply to scan a QR Code : 10\n",
      "Official QR Code reader \"Q\" - QR app. - : 0\n",
      "Digiposte + : 0\n",
      "BarcodeReader「ICONIT」 : 0\n",
      "\n",
      "\n"
     ]
    }
   ],
   "source": [
    "for row in ios_cleaned_free:\n",
    "    if row[11] == 'Productivity':\n",
    "        print (row[1], ':', row[5])\n",
    "        \n",
    "print ('\\n')\n"
   ]
  },
  {
   "cell_type": "markdown",
   "metadata": {},
   "source": [
    "## App Profile Suggestion (AppStore)\n",
    "\n",
    "- It is important to be aware to dominant apps in the market place that may skew the perceived popularity of that genre. (i.e. the `social networking` genre is extrememly dominated by apps like `facebook` whereas others struggle to get off the ground.\n",
    "- We determined the IOS app market is dominated by fun, unproductive apps. Perhaps an app that implements `gamifies` a productive app would stand out amongst others in this lower populated segment of the appstore market\n",
    "\n",
    "Idea: to-do list app that tracks calendar events and other self made lists. This fits well with an idea that will initially take off in the Google Play Market (tools/productivity genre apps) and includes methods that attract IOS users (fun app genres)\n",
    "\n",
    "## Summarizing Google Play Store Genre Popularity\n",
    "- Table below describes google play store genres and their respective average number of user installs"
   ]
  },
  {
   "cell_type": "code",
   "execution_count": 20,
   "metadata": {
    "collapsed": false
   },
   "outputs": [
    {
     "name": "stdout",
     "output_type": "stream",
     "text": [
      "App Genre: Avg Num User Ratings\n",
      "FOOD_AND_DRINK : 1924897.7363636363\n",
      "COMMUNICATION : 38590581.08741259\n",
      "TRAVEL_AND_LOCAL : 13984077.710144928\n",
      "MEDICAL : 120550.61980830671\n",
      "EVENTS : 253542.22222222222\n",
      "BEAUTY : 513151.88679245283\n",
      "DATING : 854028.8303030303\n",
      "PARENTING : 542603.6206896552\n",
      "NEWS_AND_MAGAZINES : 9549178.467741935\n",
      "PERSONALIZATION : 5201482.6122448975\n",
      "GAME : 15544014.51048951\n",
      "HEALTH_AND_FITNESS : 4188821.9853479853\n",
      "TOOLS : 10830251.970588235\n",
      "SOCIAL : 23253652.127118643\n",
      "SPORTS : 3650602.276666667\n",
      "HOUSE_AND_HOME : 1360598.042253521\n",
      "ENTERTAINMENT : 11640705.88235294\n",
      "BUSINESS : 1712290.1474201474\n",
      "COMICS : 832613.8888888889\n",
      "BOOKS_AND_REFERENCE : 8814199.78835979\n",
      "PHOTOGRAPHY : 17840110.40229885\n",
      "WEATHER : 5145550.285714285\n",
      "FINANCE : 1387692.475609756\n",
      "LIBRARIES_AND_DEMO : 638503.734939759\n",
      "LIFESTYLE : 1446158.2238372094\n",
      "ART_AND_DESIGN : 1986335.0877192982\n",
      "AUTO_AND_VEHICLES : 647317.8170731707\n",
      "EDUCATION : 1833495.145631068\n",
      "SHOPPING : 7036877.311557789\n",
      "MAPS_AND_NAVIGATION : 4049274.6341463416\n",
      "FAMILY : 3695641.8198090694\n",
      "PRODUCTIVITY : 16787331.344927534\n",
      "VIDEO_PLAYERS : 24727872.452830188\n"
     ]
    }
   ],
   "source": [
    "print ('App Genre: Avg Num User Ratings') \n",
    "\n",
    "for category in android_genre_ft:\n",
    "    total = 0\n",
    "    len_category = 0\n",
    "    \n",
    "    for item in android_cleaned_free:\n",
    "        category_app = item[1]\n",
    "        \n",
    "        if (category_app == category):\n",
    "            num_installs = item[5]\n",
    "            num_installs = num_installs.replace('+', '')\n",
    "            num_installs = num_installs.replace(',', '')\n",
    "            total += float(num_installs)\n",
    "            len_category += 1\n",
    "            \n",
    "    avg_user_ratings = total / len_category\n",
    "    print (category, ':', avg_user_ratings)"
   ]
  },
  {
   "cell_type": "markdown",
   "metadata": {},
   "source": [
    "# Conclusion:\n",
    "\n",
    "App profile for mentioned `verification strategy`:\n",
    "\n",
    "- To-Do list tracker that gamifies completed list items to produce rewards to get in app purchase.\n",
    "- App purchases will use made up currency, although credit cards can be used to buy more in-app currency\n",
    "- Genre of app (productivity) likely to take off on google play store initially based on the above analysis.\n",
    "- Game and reward aspects reaches to IOS users whose app store is dominated by fun, non-productive apps through gamification methods."
   ]
  }
 ],
 "metadata": {
  "kernelspec": {
   "display_name": "Python 3",
   "language": "python",
   "name": "python3"
  },
  "language_info": {
   "codemirror_mode": {
    "name": "ipython",
    "version": 3
   },
   "file_extension": ".py",
   "mimetype": "text/x-python",
   "name": "python",
   "nbconvert_exporter": "python",
   "pygments_lexer": "ipython3",
   "version": "3.4.3"
  }
 },
 "nbformat": 4,
 "nbformat_minor": 2
}
